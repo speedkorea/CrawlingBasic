{
 "cells": [
  {
   "cell_type": "markdown",
   "metadata": {},
   "source": [
    "## 2. 문제를 풀며 빠르게 익숙해지는 파이썬 기본 프로그래밍2"
   ]
  },
  {
   "cell_type": "markdown",
   "metadata": {},
   "source": [
    "### Exercise 12. 기본 자료형\n",
    "* 10, 2.2, \"fun-coding\" 각각을 변수에 넣고, 각 데이터 타입을 출력하세요."
   ]
  },
  {
   "cell_type": "code",
   "execution_count": 1,
   "metadata": {},
   "outputs": [
    {
     "name": "stdout",
     "output_type": "stream",
     "text": [
      "var_int type: <class 'int'>, var_float type: <class 'float'>, var_str type: <class 'str'>\n"
     ]
    }
   ],
   "source": [
    "var_int = 10\n",
    "var_float = 2.2\n",
    "var_str = \"fun-coding\"\n",
    "print(f\"var_int type: {type(var_int)}, var_float type: {type(var_float)}, var_str type: {type(var_str)}\")"
   ]
  },
  {
   "cell_type": "markdown",
   "metadata": {},
   "source": [
    "### Exercise 13. 기본 자료형\n",
    "* 다음 코드를 실행해보고 \\t와 \\n의 역할을 설명하세요.\n",
    "```python\n",
    "code = '000660\\n00000102\\t12312312'\n",
    "print (code)\n",
    "```"
   ]
  },
  {
   "cell_type": "code",
   "execution_count": 2,
   "metadata": {},
   "outputs": [
    {
     "name": "stdout",
     "output_type": "stream",
     "text": [
      "000660\n",
      "00000102\t12312312\n"
     ]
    }
   ],
   "source": [
    "# \\t : tap\n",
    "# \\n : new line\n",
    "code = '000660\\n00000102\\t12312312'\n",
    "print (code)"
   ]
  },
  {
   "cell_type": "markdown",
   "metadata": {},
   "source": [
    "### Exercise 14. 조건문\n",
    "* 사용자로부터 두 개의 숫자를 입력 받은 후 큰 숫자를 화면에 출력하세요."
   ]
  },
  {
   "cell_type": "code",
   "execution_count": 7,
   "metadata": {},
   "outputs": [
    {
     "name": "stdin",
     "output_type": "stream",
     "text": [
      "Input the 1st number:  3\n",
      "Input the 2nd number:  3\n"
     ]
    },
    {
     "name": "stdout",
     "output_type": "stream",
     "text": [
      "3 is equal to 3\n"
     ]
    }
   ],
   "source": [
    "num1 = int(input(\"Input the 1st number: \"))\n",
    "num2 = int(input(\"Input the 2nd number: \"))\n",
    "\n",
    "if (num1 > num2) :\n",
    "    print(f\"{num1} is greater then {num2}\")\n",
    "elif (num1 < num2) :\n",
    "    print(f\"{num1} is smaller than {num2}\")\n",
    "else:\n",
    "    print(f\"{num1} is equal to {num2}\")"
   ]
  },
  {
   "cell_type": "markdown",
   "metadata": {},
   "source": [
    "### Exercise 15. 조건문\n",
    "* 사용자로부터 입력 받은 숫자가 홀수인지 짝수인지 출력하세요."
   ]
  },
  {
   "cell_type": "code",
   "execution_count": 10,
   "metadata": {},
   "outputs": [
    {
     "name": "stdin",
     "output_type": "stream",
     "text": [
      "Input a random number:  100\n"
     ]
    },
    {
     "name": "stdout",
     "output_type": "stream",
     "text": [
      "100 is even.\n"
     ]
    }
   ],
   "source": [
    "digit = int(input(\"Input a random number: \"))\n",
    "\n",
    "if (digit % 2) == 0:\n",
    "    print(f\"{digit} is even.\")\n",
    "else:\n",
    "    print(f\"{digit} is odd.\")"
   ]
  },
  {
   "cell_type": "markdown",
   "metadata": {},
   "source": [
    "### Exercise 16.  조건문\n",
    "* 사용자로부터 세 개의 숫자를 입력 받은 후 가장 작은 숫자를 출력하세요."
   ]
  },
  {
   "cell_type": "code",
   "execution_count": 54,
   "metadata": {},
   "outputs": [
    {
     "name": "stdin",
     "output_type": "stream",
     "text": [
      "Input the 1st number:  2\n",
      "Input the 2nd number:  5\n",
      "Input the 3rd number:  2\n"
     ]
    },
    {
     "name": "stdout",
     "output_type": "stream",
     "text": [
      "2 is the smallest number\n"
     ]
    }
   ],
   "source": [
    "num1 = int(input(\"Input the 1st number: \"))\n",
    "num2 = int(input(\"Input the 2nd number: \"))\n",
    "num3 = int(input(\"Input the 3rd number: \"))\n",
    "\n",
    "# if num1 <= num2:\n",
    "#     if num1 <= num3:\n",
    "#         print(f\"{num1} is the smallest number\")\n",
    "# elif num2 <= num3:\n",
    "#     print(f\"{num2} is the smallest number\")\n",
    "# else:\n",
    "#     print(f\"{num3} is the smallest number\")\n",
    "\n",
    "if (num1 <= num2) and (num1 <= num3):\n",
    "    print(f\"{num1} is the smallest number\")\n",
    "elif (num2 <= num3) and (num2 <= num3):\n",
    "    print(f\"{num2} is the smallest number\")\n",
    "else:\n",
    "    print(f\"{num3} is the smallest number\")"
   ]
  },
  {
   "cell_type": "markdown",
   "metadata": {},
   "source": [
    "### Exercise 17. 조건문\n",
    "* 사용자로부터 점수를 입력 받은 후 등급을 출력하라.\n",
    "  - (A: 100 ~ 81, B: 80 ~ 61, C: 60 ~ 0)"
   ]
  },
  {
   "cell_type": "code",
   "execution_count": 21,
   "metadata": {},
   "outputs": [
    {
     "name": "stdin",
     "output_type": "stream",
     "text": [
      "Input your socre:  101\n"
     ]
    },
    {
     "name": "stdout",
     "output_type": "stream",
     "text": [
      "Your input socre is wrong. Input from 0 to 100. Try again !!!\n"
     ]
    }
   ],
   "source": [
    "score = int(input(\"Input your socre: \"))\n",
    "\n",
    "if score <=100 and score >= 81:\n",
    "    print(\"Your Grade is A\")\n",
    "elif score <=80 and score >=61:\n",
    "    print(\"Your Grade is B\")\n",
    "elif score <=60 and score >=0:\n",
    "    print(\"Your Grade is C\")\n",
    "else:\n",
    "    print(\"Your input socre is wrong. Input from 0 to 100. Try again !!!\")"
   ]
  },
  {
   "cell_type": "markdown",
   "metadata": {},
   "source": [
    "### Exercise 18. 문자열과 인덱스\n",
    "* 사용자로부터 주민등록번호를 입력받아 출생 연도를 출력하세요.\n",
    "  - 예) 800001-1231231 주민번호를 입력받으면 80을 출력하면 됨"
   ]
  },
  {
   "cell_type": "code",
   "execution_count": 55,
   "metadata": {},
   "outputs": [
    {
     "name": "stdout",
     "output_type": "stream",
     "text": [
      "80\n"
     ]
    }
   ],
   "source": [
    "social_num = \"800001-1231231\"\n",
    "# social_num = input(\"Input your social number: \")\n",
    "\n",
    "print(social_num[0:2])"
   ]
  },
  {
   "cell_type": "markdown",
   "metadata": {
    "tags": []
   },
   "source": [
    "### Exercise 19. 데이터 구조 (리스트)\n",
    "* 사용자로부터 주민등록번호를 입력받아 뒷자리 맨 앞의 숫자를 출력하세요.\n",
    "  - 주민등록번호 뒷자리 맨 앞자리는 성별을 나타냄\n",
    "  - 예) 800001-1231231 주민번호를 입력받으면 1을 출력하면 됨\n",
    "  - 1은 남성을 의미, 2는 여성을 의미, 최근 아이들은 3과 4를 사용함 "
   ]
  },
  {
   "cell_type": "code",
   "execution_count": 28,
   "metadata": {},
   "outputs": [
    {
     "name": "stdout",
     "output_type": "stream",
     "text": [
      "1\n"
     ]
    }
   ],
   "source": [
    "social_num = \"800001-1231231\"\n",
    "# social_num = input(\"Input your social number: \")\n",
    "\n",
    "print(social_num.split(\"-\")[1][0])"
   ]
  },
  {
   "cell_type": "markdown",
   "metadata": {},
   "source": [
    "### Exercise 20. 데이터 구조 (리스트)\n",
    "* 사용자로부터 주민등록번호를 입력받아, 성별을 '남성' 또는 '여성'으로 출력하세요.\n",
    "  - 주민등록번호 뒷자리 맨 앞자리는 성별을 나타냄\n",
    "  - 예) 800001-1231231 주민번호를 입력받으면 1을 출력하면 됨\n",
    "  - 1이면 남성, 2이면 여성을 출력하면 됨 (최근 아이들은 3과 4를 사용하지만 이 경우는 고려하지 않기로 함) "
   ]
  },
  {
   "cell_type": "code",
   "execution_count": 30,
   "metadata": {},
   "outputs": [
    {
     "name": "stdout",
     "output_type": "stream",
     "text": [
      "You are a female.\n"
     ]
    }
   ],
   "source": [
    "social_num = \"800001-2231231\"\n",
    "# social_num = input(\"Input your social number: \")\n",
    "\n",
    "gender = int(social_num.split(\"-\")[1][0])\n",
    "\n",
    "if gender == 1:\n",
    "    print(\"You are a male.\")\n",
    "else:\n",
    "    print(\"You are a female.\")"
   ]
  },
  {
   "cell_type": "markdown",
   "metadata": {},
   "source": [
    "### Exercise 21. 문자열 다루기 (strip)\n",
    "* 다음 문자열에서 ...를 제거하라.\n",
    "```python\n",
    "mystr = \"a man goes into the room...\"\n",
    "```\n",
    "출력 예: 'a man goes into the room'"
   ]
  },
  {
   "cell_type": "code",
   "execution_count": 32,
   "metadata": {},
   "outputs": [
    {
     "data": {
      "text/plain": [
       "'a man goes into the room'"
      ]
     },
     "execution_count": 32,
     "metadata": {},
     "output_type": "execute_result"
    }
   ],
   "source": [
    "mystr = \"a man goes into the room...\"\n",
    "mystr.strip(\".\")"
   ]
  },
  {
   "cell_type": "markdown",
   "metadata": {},
   "source": [
    "### Exercise 22. 문자열 다루기 (strip)\n",
    "* 주식 종목을 나타내는 종목코드에 공백과 줄바꿈 기호가 포함되어 있다. 공백과 줄바꿈 기호를 제거하고 종목코드만을 추출하라.\n",
    "```python\n",
    "code = '         000660\\n            '\n",
    "```\n",
    "출력: '000660'"
   ]
  },
  {
   "cell_type": "code",
   "execution_count": 33,
   "metadata": {},
   "outputs": [
    {
     "data": {
      "text/plain": [
       "'000660'"
      ]
     },
     "execution_count": 33,
     "metadata": {},
     "output_type": "execute_result"
    }
   ],
   "source": [
    "code = '         000660\\n            '\n",
    "code.strip()"
   ]
  },
  {
   "cell_type": "markdown",
   "metadata": {},
   "source": [
    "### Exercise 23. 문자열 다루기 (count)\n",
    "* 다음 문자열에서 'Python' 문자열의 빈도수를 출력하라.\n",
    "```python\n",
    "python_desc = \"Python is an interpreted high-level programming language for general-purpose programming. Created by Guido van Rossum and first released in 1991, Python has a design philosophy that emphasizes code readability, notably using significant whitespace.\"\n",
    "```\n",
    "출력 예: 2"
   ]
  },
  {
   "cell_type": "code",
   "execution_count": 34,
   "metadata": {},
   "outputs": [
    {
     "data": {
      "text/plain": [
       "2"
      ]
     },
     "execution_count": 34,
     "metadata": {},
     "output_type": "execute_result"
    }
   ],
   "source": [
    "python_desc = \"\"\"Python is an interpreted high-level programming language for general-purpose programming. Created by Guido van Rossum and first released in 1991, \n",
    "Python has a design philosophy that emphasizes code readability, notably using significant whitespace.\"\"\"\n",
    "\n",
    "python_desc.count(\"Python\")"
   ]
  },
  {
   "cell_type": "markdown",
   "metadata": {
    "tags": []
   },
   "source": [
    "### Exercise 24. 문자열 다루기 (count)\n",
    "* 다음 문자열에서 'p' 문자가 몇번 나오는지 빈도수를 출력하라.\n",
    "```python\n",
    "python_desc = \"Python is an interpreted high-level programming language for general-purpose programming. Created by Guido van Rossum and first released in 1991, Python has a design philosophy that emphasizes code readability, notably using significant whitespace.\"\n",
    "```\n",
    "출력 예: 9"
   ]
  },
  {
   "cell_type": "code",
   "execution_count": 35,
   "metadata": {},
   "outputs": [
    {
     "data": {
      "text/plain": [
       "9"
      ]
     },
     "execution_count": 35,
     "metadata": {},
     "output_type": "execute_result"
    }
   ],
   "source": [
    "python_desc.count('p')"
   ]
  },
  {
   "cell_type": "markdown",
   "metadata": {},
   "source": [
    "### Exercise 25. 문자열 다루기 (문자열 인덱싱)\n",
    "letters 라는 변수에 들어 있는 문자열에서 두 번째와 네 번째 문자를 출력하라\n",
    "```python\n",
    "letters = \"python\"\n",
    "```\n",
    "출력 예: <br>\n",
    "y <br>\n",
    "h"
   ]
  },
  {
   "cell_type": "code",
   "execution_count": 36,
   "metadata": {},
   "outputs": [
    {
     "name": "stdout",
     "output_type": "stream",
     "text": [
      "y\n",
      "h\n"
     ]
    }
   ],
   "source": [
    "letters = \"python\"\n",
    "print(letters[1])\n",
    "print(letters[3])"
   ]
  },
  {
   "cell_type": "markdown",
   "metadata": {},
   "source": [
    "### Exercise 26. 문자열 다루기 (문자열 인덱싱)\n",
    "* letters 라는 변수에 사용자로부터 문자열을 입력받아서 문자 n 이 들어있는지를 출력하라 ( n 이 들어 있으면 0, 안들어있으면 -1을 출력하라)\n"
   ]
  },
  {
   "cell_type": "code",
   "execution_count": 59,
   "metadata": {},
   "outputs": [
    {
     "name": "stdout",
     "output_type": "stream",
     "text": [
      "0\n"
     ]
    }
   ],
   "source": [
    "letters = \"note\"\n",
    "# letters = input(\"Input a string: \")\n",
    "\n",
    "letter_n_is = letters.count(\"n\")\n",
    "\n",
    "if letter_n_is > 0 :\n",
    "    print(0)\n",
    "else:\n",
    "    print(-1)"
   ]
  },
  {
   "cell_type": "markdown",
   "metadata": {},
   "source": [
    "### Exercise 27. 문자열 다루기 (문자열 인덱싱)\n",
    "* letters 라는 변수에 사용자로부터 문자열을 입력받아서 문자 n 이 들어있는지를 출력하라 \n",
    "  - n 이 들어 있으면 'n 이 들어있습니다.', 안들어있으면 'n 이 안들어있습니다.' 를 출력하라"
   ]
  },
  {
   "cell_type": "code",
   "execution_count": 56,
   "metadata": {},
   "outputs": [
    {
     "name": "stdout",
     "output_type": "stream",
     "text": [
      "'n' exsists in a input string\n"
     ]
    }
   ],
   "source": [
    "letters = \"letters apple banana\"\n",
    "# letters = input(\"Input a string: \")\n",
    "\n",
    "letter_n_is = letters.count(\"n\")\n",
    "\n",
    "if letter_n_is > 0 :\n",
    "    print(\"'n' exsists in a input string\")\n",
    "else:\n",
    "    print(\"'n' doen't exsist in a input string\")"
   ]
  },
  {
   "cell_type": "markdown",
   "metadata": {},
   "source": [
    "### Exercise 28. 문자열 다루기 (문자열 인덱싱)와 조건문\n",
    "* 주민등록번호의 뒷 자리 7자리 중 두번째부터 세번째는 출생 지역 코드입니다.\n",
    "* 다음 표를 참조하여 사용자로부터 주민 등록 번호를 입력 받은 후 출생지를 출력하세요.\n",
    "<table>\n",
    "<thead>\n",
    "<tr>\n",
    "<th>지역 코드</th>\n",
    "<th>출생 지역</th>\n",
    "</tr>\n",
    "</thead>\n",
    "<tbody>\n",
    "<tr>\n",
    "<td>00 ~ 08</td>\n",
    "<td>서울</td>\n",
    "</tr>\n",
    "<tr>\n",
    "<td>09 ~ 12</td>\n",
    "<td>부산</td>\n",
    "</tr>\n",
    "</tbody>\n",
    "</table>"
   ]
  },
  {
   "cell_type": "code",
   "execution_count": 45,
   "metadata": {},
   "outputs": [
    {
     "name": "stdout",
     "output_type": "stream",
     "text": [
      "Your birthplace is Busan\n"
     ]
    }
   ],
   "source": [
    "data = '800001-1111231'\n",
    "birthplace = int(data.split(\"-\")[1][1:3])\n",
    "\n",
    "if birthplace <=8 and birthplace >=0:\n",
    "    print(\"Your birthplace is Seoul\")\n",
    "elif birthplace <=12 and birthplace >=9:\n",
    "    print(\"Your birthplace is Busan\")\n",
    "else:\n",
    "    print(\"Your birthplace is others\")"
   ]
  },
  {
   "cell_type": "markdown",
   "metadata": {},
   "source": [
    "### Exercise 29. 문자열 다루기 (split)\n",
    "* letters 라는 변수에 Dave,David,Andy 가 들어있다. 해당 변수값을 , 를 기준으로 분리해서 출력하라<br> \n",
    "  - 출력 예: ['Dave', 'David', 'Andy']"
   ]
  },
  {
   "cell_type": "code",
   "execution_count": 53,
   "metadata": {},
   "outputs": [
    {
     "data": {
      "text/plain": [
       "['Dave', ' David', ' Andy']"
      ]
     },
     "execution_count": 53,
     "metadata": {},
     "output_type": "execute_result"
    }
   ],
   "source": [
    "letters = 'Dave, David, Andy'\n",
    "letters.split(\",\")"
   ]
  },
  {
   "cell_type": "markdown",
   "metadata": {},
   "source": [
    "### Exercise 30. 문자열 다루기 (split)\n",
    "* 다음과 같은 파일 이름(확장자 포함)에서 확장자를 제거한 파일 이름만 출력하세요.\n",
    "\n",
    "```python\n",
    "filename = 'exercise01.docx'\n",
    "```"
   ]
  },
  {
   "cell_type": "code",
   "execution_count": 52,
   "metadata": {},
   "outputs": [
    {
     "data": {
      "text/plain": [
       "'exercise01'"
      ]
     },
     "execution_count": 52,
     "metadata": {},
     "output_type": "execute_result"
    }
   ],
   "source": [
    "filename = 'exercise01.docx'\n",
    "filename.split(\".\")[0]"
   ]
  },
  {
   "cell_type": "code",
   "execution_count": null,
   "metadata": {},
   "outputs": [],
   "source": []
  }
 ],
 "metadata": {
  "interpreter": {
   "hash": "d1000333015331a6fecceb2273d2ff4934b5c5a0ea77244a859046c60c818986"
  },
  "kernelspec": {
   "display_name": "Python 3 (ipykernel)",
   "language": "python",
   "name": "python3"
  },
  "language_info": {
   "codemirror_mode": {
    "name": "ipython",
    "version": 3
   },
   "file_extension": ".py",
   "mimetype": "text/x-python",
   "name": "python",
   "nbconvert_exporter": "python",
   "pygments_lexer": "ipython3",
   "version": "3.9.7"
  },
  "nbTranslate": {
   "displayLangs": [
    "*"
   ],
   "hotkey": "alt-t",
   "langInMainMenu": true,
   "sourceLang": "en",
   "targetLang": "fr",
   "useGoogleTranslate": true
  }
 },
 "nbformat": 4,
 "nbformat_minor": 4
}
