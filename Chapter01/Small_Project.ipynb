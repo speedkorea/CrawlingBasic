{
 "cells": [
  {
   "cell_type": "markdown",
   "metadata": {},
   "source": [
    "### Small Project 01"
   ]
  },
  {
   "cell_type": "code",
   "execution_count": 3,
   "metadata": {},
   "outputs": [
    {
     "name": "stdout",
     "output_type": "stream",
     "text": [
      "['java', 'c', 'c++']\n",
      "['java', 'c', 'c++', 'golang']\n"
     ]
    }
   ],
   "source": [
    "# 리스트 생성 : lang = [\"java\", \"c\", \"c++\"]\n",
    "# 리스트 함수를 활용하여 \"golang\" 추가\n",
    "lang = [\"java\", \"c\", \"c++\"]\n",
    "print(lang)\n",
    "lang.append(\"golang\")\n",
    "print(lang)"
   ]
  },
  {
   "cell_type": "markdown",
   "metadata": {},
   "source": [
    "### Small Project 02"
   ]
  },
  {
   "cell_type": "code",
   "execution_count": 1,
   "metadata": {},
   "outputs": [
    {
     "name": "stdout",
     "output_type": "stream",
     "text": [
      "radius = 10, pi = 3.1415, diameter=20, circumference = 62.830000000000005, area = 314.15000000000003\n"
     ]
    }
   ],
   "source": [
    "# 반지름(r=10)을 선언한 뒤, 이를 이용하여 원의 지름, 둘레, 넓이를 각각 출력\n",
    "\n",
    "radius = 10\n",
    "pi = 3.1415\n",
    "diameter = radius * 2\n",
    "circumference = pi * diameter\n",
    "area = pi * (radius ** 2)\n",
    "\n",
    "print(f\"radius = {radius}, pi = {pi}, diameter={diameter}, circumference = {circumference}, area = {area}\")"
   ]
  },
  {
   "cell_type": "markdown",
   "metadata": {},
   "source": [
    "### Small Project 03"
   ]
  },
  {
   "cell_type": "code",
   "execution_count": 7,
   "metadata": {},
   "outputs": [
    {
     "name": "stdout",
     "output_type": "stream",
     "text": [
      "당신은 청소년입니다.\n"
     ]
    }
   ],
   "source": [
    "# 나이를 입력받고, \n",
    "# 나이가 19 이상이면 \"당신은 성인입니다\"라는 메시지 출력\n",
    "# 나이가 19 미만이면 \"당신은 청소년입니다\"라는 메시지 출력\n",
    "age = 17\n",
    "# age = int(input(\"Input yours age: \"))\n",
    "\n",
    "\n",
    "if (age >= 19):\n",
    "    print(\"당신은 성인입니다.\")\n",
    "else:\n",
    "    print(\"당신은 청소년입니다.\")"
   ]
  },
  {
   "cell_type": "markdown",
   "metadata": {},
   "source": [
    "### Small Project 05"
   ]
  },
  {
   "cell_type": "code",
   "execution_count": 11,
   "metadata": {},
   "outputs": [
    {
     "name": "stdout",
     "output_type": "stream",
     "text": [
      "당신은 아동입니다.\n"
     ]
    }
   ],
   "source": [
    "# 나이를 입력받고, \n",
    "# 나이가 19 이상이면 \"당신은 성인입니다\"라는 메시지 출력\n",
    "# 나이가 13 이상 19 미만이면 \"당신은 청소년입니다\"라는 메시지 출력\n",
    "# 나이가 13 미만이면 \"당신은 아동입니다\"라는 메시지 출력\n",
    "age = 11\n",
    "# age = int(input(\"Input yours age: \"))\n",
    "\n",
    "\n",
    "if (age >= 19):\n",
    "    print(\"당신은 성인입니다.\")\n",
    "elif (age >= 13 and age < 19):\n",
    "    print(\"당신은 청소년입니다.\")\n",
    "else:\n",
    "    print(\"당신은 아동입니다.\")"
   ]
  },
  {
   "cell_type": "code",
   "execution_count": null,
   "metadata": {},
   "outputs": [],
   "source": []
  }
 ],
 "metadata": {
  "interpreter": {
   "hash": "d1000333015331a6fecceb2273d2ff4934b5c5a0ea77244a859046c60c818986"
  },
  "kernelspec": {
   "display_name": "Python 3.9.7 ('base')",
   "language": "python",
   "name": "python3"
  },
  "language_info": {
   "codemirror_mode": {
    "name": "ipython",
    "version": 3
   },
   "file_extension": ".py",
   "mimetype": "text/x-python",
   "name": "python",
   "nbconvert_exporter": "python",
   "pygments_lexer": "ipython3",
   "version": "3.9.7"
  },
  "orig_nbformat": 4
 },
 "nbformat": 4,
 "nbformat_minor": 2
}
