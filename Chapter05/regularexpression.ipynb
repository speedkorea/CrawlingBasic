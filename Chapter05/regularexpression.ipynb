{
 "cells": [
  {
   "cell_type": "markdown",
   "metadata": {},
   "source": [
    "## 예제: 왜 정규표현식이 필요할까?"
   ]
  },
  {
   "cell_type": "code",
   "execution_count": 4,
   "metadata": {},
   "outputs": [],
   "source": [
    "import requests\n",
    "from bs4 import BeautifulSoup\n",
    "import re\n",
    "\n",
    "url = \"https://davelee-fun.github.io/blog/crawl_test_css.html\"\n",
    "res = requests.get(url)\n",
    "soup = BeautifulSoup(res.content, \"html.parser\")"
   ]
  },
  {
   "cell_type": "code",
   "execution_count": 5,
   "metadata": {},
   "outputs": [
    {
     "name": "stdout",
     "output_type": "stream",
     "text": [
      "(초급) - 강사가 실제 사용하는 자동 프로그램 소개 [2]\n",
      "(초급) - 필요한 프로그램 설치 시연 [5]\n",
      "(초급) - 데이터를 엑셀 파일로 만들기 [9]\n",
      "(초급) -     엑셀 파일 이쁘게! 이쁘게! [8]\n",
      "(초급) -     나대신 주기적으로 파이썬 프로그램 실행하기 [7]\n",
      "(초급) - 파이썬으로 슬랙(slack) 메신저에 글쓰기 [40]\n",
      "(초급) - 웹사이트 변경사항 주기적으로 체크해서, 메신저로 알람주기 [12]\n",
      "(초급) - 네이버 API 사용해서, 블로그에 글쓰기 [42]\n",
      "(중급) - 자동으로 쿠팡파트너스 API 로 가져온 상품 정보, 네이버 블로그/트위터에 홍보하기 [412]\n"
     ]
    }
   ],
   "source": [
    "data = soup.select('ul#dev_course_list li.course')\n",
    "\n",
    "for item in data:\n",
    "    print(item.get_text())"
   ]
  },
  {
   "cell_type": "code",
   "execution_count": 7,
   "metadata": {},
   "outputs": [
    {
     "name": "stdout",
     "output_type": "stream",
     "text": [
      "(초급) - 강사가 실제 사용하는 자동 프로그램 소개 \n",
      "(초급) - 필요한 프로그램 설치 시연 \n",
      "(초급) - 데이터를 엑셀 파일로 만들기 \n",
      "(초급) -     엑셀 파일 이쁘게! 이쁘게! \n",
      "(초급) -     나대신 주기적으로 파이썬 프로그램 실행하기 \n",
      "(초급) - 파이썬으로 슬랙(slack) 메신저에 글쓰기 \n",
      "(초급) - 웹사이트 변경사항 주기적으로 체크해서, 메신저로 알람주기 \n",
      "(초급) - 네이버 API 사용해서, 블로그에 글쓰기 \n",
      "(중급) - 자동으로 쿠팡파트너스 API 로 가져온 상품 정보, 네이버 블로그/트위터에 홍보하기 \n"
     ]
    }
   ],
   "source": [
    "for item in data:\n",
    "    print(re.sub('\\[[0-9]+\\]', '', item.get_text()))"
   ]
  },
  {
   "cell_type": "code",
   "execution_count": null,
   "metadata": {},
   "outputs": [],
   "source": []
  },
  {
   "cell_type": "markdown",
   "metadata": {},
   "source": [
    "## 정규표현식"
   ]
  },
  {
   "cell_type": "code",
   "execution_count": 9,
   "metadata": {
    "collapsed": true,
    "jupyter": {
     "outputs_hidden": true
    },
    "tags": []
   },
   "outputs": [
    {
     "name": "stdout",
     "output_type": "stream",
     "text": [
      "Name :--> []\n",
      "Braund, Mr. Owen Harris :--> [' Mr.']\n",
      "Cumings, Mrs. John Bradley (Florence Briggs Thayer) :--> [' Mrs.']\n",
      "Heikkinen, Miss. Laina :--> [' Miss.']\n",
      "Futrelle, Mrs. Jacques Heath (Lily May Peel) :--> [' Mrs.']\n",
      "Allen, Mr. William Henry :--> [' Mr.']\n",
      "Moran, Mr. James :--> [' Mr.']\n",
      "McCarthy, Mr. Timothy J :--> [' Mr.']\n",
      "Palsson, Master. Gosta Leonard :--> [' Master.']\n",
      "Johnson, Mrs. Oscar W (Elisabeth Vilhelmina Berg) :--> [' Mrs.']\n",
      "Nasser, Mrs. Nicholas (Adele Achem) :--> [' Mrs.']\n",
      "Sandstrom, Miss. Marguerite Rut :--> [' Miss.']\n",
      "Bonnell, Miss. Elizabeth :--> [' Miss.']\n",
      "Saundercock, Mr. William Henry :--> [' Mr.']\n",
      "Andersson, Mr. Anders Johan :--> [' Mr.']\n",
      "Vestrom, Miss. Hulda Amanda Adolfina :--> [' Miss.']\n",
      "Hewlett, Mrs. (Mary D Kingcome)  :--> [' Mrs.']\n",
      "Rice, Master. Eugene :--> [' Master.']\n",
      "Williams, Mr. Charles Eugene :--> [' Mr.']\n",
      "Vander Planke, Mrs. Julius (Emelia Maria Vandemoortele) :--> [' Mrs.']\n",
      "Masselmani, Mrs. Fatima :--> [' Mrs.']\n",
      "Fynney, Mr. Joseph J :--> [' Mr.']\n",
      "Beesley, Mr. Lawrence :--> [' Mr.']\n",
      "McGowan, Miss. Anna \"Annie\" :--> [' Miss.']\n",
      "Sloper, Mr. William Thompson :--> [' Mr.']\n",
      "Palsson, Miss. Torborg Danira :--> [' Miss.']\n",
      "Asplund, Mrs. Carl Oscar (Selma Augusta Emilia Johansson) :--> [' Mrs.']\n",
      "Emir, Mr. Farred Chehab :--> [' Mr.']\n",
      "Fortune, Mr. Charles Alexander :--> [' Mr.']\n",
      "O'Dwyer, Miss. Ellen \"Nellie\" :--> [' Miss.']\n",
      "Todoroff, Mr. Lalio :--> [' Mr.']\n",
      "Uruchurtu, Don. Manuel E :--> [' Don.']\n",
      "Spencer, Mrs. William Augustus (Marie Eugenie) :--> [' Mrs.']\n",
      "Glynn, Miss. Mary Agatha :--> [' Miss.']\n",
      "Wheadon, Mr. Edward H :--> [' Mr.']\n",
      "Meyer, Mr. Edgar Joseph :--> [' Mr.']\n",
      "Holverson, Mr. Alexander Oskar :--> [' Mr.']\n",
      "Mamee, Mr. Hanna :--> [' Mr.']\n",
      "Cann, Mr. Ernest Charles :--> [' Mr.']\n",
      "Vander Planke, Miss. Augusta Maria :--> [' Miss.']\n",
      "Nicola-Yarred, Miss. Jamila :--> [' Miss.']\n",
      "Ahlin, Mrs. Johan (Johanna Persdotter Larsson) :--> [' Mrs.']\n",
      "Turpin, Mrs. William John Robert (Dorothy Ann Wonnacott) :--> [' Mrs.']\n",
      "Kraeff, Mr. Theodor :--> [' Mr.']\n",
      "Laroche, Miss. Simonne Marie Anne Andree :--> [' Miss.']\n",
      "Devaney, Miss. Margaret Delia :--> [' Miss.']\n",
      "Rogers, Mr. William John :--> [' Mr.']\n",
      "Lennon, Mr. Denis :--> [' Mr.']\n",
      "O'Driscoll, Miss. Bridget :--> [' Miss.']\n",
      "Samaan, Mr. Youssef :--> [' Mr.']\n",
      "Arnold-Franchi, Mrs. Josef (Josefine Franchi) :--> [' Mrs.']\n",
      "Panula, Master. Juha Niilo :--> [' Master.']\n",
      "Nosworthy, Mr. Richard Cater :--> [' Mr.']\n",
      "Harper, Mrs. Henry Sleeper (Myna Haxtun) :--> [' Mrs.']\n",
      "Faunthorpe, Mrs. Lizzie (Elizabeth Anne Wilkinson) :--> [' Mrs.']\n",
      "Ostby, Mr. Engelhart Cornelius :--> [' Mr.']\n",
      "Woolner, Mr. Hugh :--> [' Mr.']\n",
      "Rugg, Miss. Emily :--> [' Miss.']\n",
      "Novel, Mr. Mansouer :--> [' Mr.']\n",
      "West, Miss. Constance Mirium :--> [' Miss.']\n",
      "Goodwin, Master. William Frederick :--> [' Master.']\n",
      "Sirayanian, Mr. Orsen :--> [' Mr.']\n",
      "Icard, Miss. Amelie :--> [' Miss.']\n",
      "Harris, Mr. Henry Birkhardt :--> [' Mr.']\n",
      "Skoog, Master. Harald :--> [' Master.']\n",
      "Stewart, Mr. Albert A :--> [' Mr.']\n",
      "Moubarek, Master. Gerios :--> [' Master.']\n",
      "Nye, Mrs. (Elizabeth Ramell) :--> [' Mrs.']\n",
      "Crease, Mr. Ernest James :--> [' Mr.']\n",
      "Andersson, Miss. Erna Alexandra :--> [' Miss.']\n",
      "Kink, Mr. Vincenz :--> [' Mr.']\n",
      "Jenkin, Mr. Stephen Curnow :--> [' Mr.']\n",
      "Goodwin, Miss. Lillian Amy :--> [' Miss.']\n",
      "Hood, Mr. Ambrose Jr :--> [' Mr.']\n",
      "Chronopoulos, Mr. Apostolos :--> [' Mr.']\n",
      "Bing, Mr. Lee :--> [' Mr.']\n",
      "Moen, Mr. Sigurd Hansen :--> [' Mr.']\n",
      "Staneff, Mr. Ivan :--> [' Mr.']\n",
      "Moutal, Mr. Rahamin Haim :--> [' Mr.']\n",
      "Caldwell, Master. Alden Gates :--> [' Master.']\n",
      "Dowdell, Miss. Elizabeth :--> [' Miss.']\n",
      "Waelens, Mr. Achille :--> [' Mr.']\n",
      "Sheerlinck, Mr. Jan Baptist :--> [' Mr.']\n",
      "McDermott, Miss. Brigdet Delia :--> [' Miss.']\n",
      "Carrau, Mr. Francisco M :--> [' Mr.']\n",
      "Ilett, Miss. Bertha :--> [' Miss.']\n",
      "Backstrom, Mrs. Karl Alfred (Maria Mathilda Gustafsson) :--> [' Mrs.']\n",
      "Ford, Mr. William Neal :--> [' Mr.']\n",
      "Slocovski, Mr. Selman Francis :--> [' Mr.']\n",
      "Fortune, Miss. Mabel Helen :--> [' Miss.']\n",
      "Celotti, Mr. Francesco :--> [' Mr.']\n",
      "Christmann, Mr. Emil :--> [' Mr.']\n",
      "Andreasson, Mr. Paul Edvin :--> [' Mr.']\n",
      "Chaffee, Mr. Herbert Fuller :--> [' Mr.']\n",
      "Dean, Mr. Bertram Frank :--> [' Mr.']\n",
      "Coxon, Mr. Daniel :--> [' Mr.']\n",
      "Shorney, Mr. Charles Joseph :--> [' Mr.']\n",
      "Goldschmidt, Mr. George B :--> [' Mr.']\n",
      "Greenfield, Mr. William Bertram :--> [' Mr.']\n",
      "Doling, Mrs. John T (Ada Julia Bone) :--> [' Mrs.']\n",
      "Kantor, Mr. Sinai :--> [' Mr.']\n",
      "Petranec, Miss. Matilda :--> [' Miss.']\n",
      "Petroff, Mr. Pastcho (\"Pentcho\") :--> [' Mr.']\n",
      "White, Mr. Richard Frasar :--> [' Mr.']\n",
      "Johansson, Mr. Gustaf Joel :--> [' Mr.']\n",
      "Gustafsson, Mr. Anders Vilhelm :--> [' Mr.']\n",
      "Mionoff, Mr. Stoytcho :--> [' Mr.']\n",
      "Salkjelsvik, Miss. Anna Kristine :--> [' Miss.']\n",
      "Moss, Mr. Albert Johan :--> [' Mr.']\n",
      "Rekic, Mr. Tido :--> [' Mr.']\n",
      "Moran, Miss. Bertha :--> [' Miss.']\n",
      "Porter, Mr. Walter Chamberlain :--> [' Mr.']\n",
      "Zabour, Miss. Hileni :--> [' Miss.']\n",
      "Barton, Mr. David John :--> [' Mr.']\n",
      "Jussila, Miss. Katriina :--> [' Miss.']\n",
      "Attalah, Miss. Malake :--> [' Miss.']\n",
      "Pekoniemi, Mr. Edvard :--> [' Mr.']\n",
      "Connors, Mr. Patrick :--> [' Mr.']\n",
      "Turpin, Mr. William John Robert :--> [' Mr.']\n",
      "Baxter, Mr. Quigg Edmond :--> [' Mr.']\n",
      "Andersson, Miss. Ellis Anna Maria :--> [' Miss.']\n",
      "Hickman, Mr. Stanley George :--> [' Mr.']\n",
      "Moore, Mr. Leonard Charles :--> [' Mr.']\n",
      "Nasser, Mr. Nicholas :--> [' Mr.']\n",
      "Webber, Miss. Susan :--> [' Miss.']\n",
      "White, Mr. Percival Wayland :--> [' Mr.']\n",
      "Nicola-Yarred, Master. Elias :--> [' Master.']\n",
      "McMahon, Mr. Martin :--> [' Mr.']\n",
      "Madsen, Mr. Fridtjof Arne :--> [' Mr.']\n",
      "Peter, Miss. Anna :--> [' Miss.']\n",
      "Ekstrom, Mr. Johan :--> [' Mr.']\n",
      "Drazenoic, Mr. Jozef :--> [' Mr.']\n",
      "Coelho, Mr. Domingos Fernandeo :--> [' Mr.']\n",
      "Robins, Mrs. Alexander A (Grace Charity Laury) :--> [' Mrs.']\n",
      "Weisz, Mrs. Leopold (Mathilde Francoise Pede) :--> [' Mrs.']\n",
      "Sobey, Mr. Samuel James Hayden :--> [' Mr.']\n",
      "Richard, Mr. Emile :--> [' Mr.']\n",
      "Newsom, Miss. Helen Monypeny :--> [' Miss.']\n",
      "Futrelle, Mr. Jacques Heath :--> [' Mr.']\n",
      "Osen, Mr. Olaf Elon :--> [' Mr.']\n",
      "Giglio, Mr. Victor :--> [' Mr.']\n",
      "Boulos, Mrs. Joseph (Sultana) :--> [' Mrs.']\n",
      "Nysten, Miss. Anna Sofia :--> [' Miss.']\n",
      "Hakkarainen, Mrs. Pekka Pietari (Elin Matilda Dolck) :--> [' Mrs.']\n",
      "Burke, Mr. Jeremiah :--> [' Mr.']\n",
      "Andrew, Mr. Edgardo Samuel :--> [' Mr.']\n",
      "Nicholls, Mr. Joseph Charles :--> [' Mr.']\n",
      "Andersson, Mr. August Edvard (\"Wennerstrom\") :--> [' Mr.']\n",
      "Ford, Miss. Robina Maggie \"Ruby\" :--> [' Miss.']\n",
      "Navratil, Mr. Michel (\"Louis M Hoffman\") :--> [' Mr.']\n",
      "Byles, Rev. Thomas Roussel Davids :--> [' Rev.']\n",
      "Bateman, Rev. Robert James :--> [' Rev.']\n",
      "Pears, Mrs. Thomas (Edith Wearne) :--> [' Mrs.']\n",
      "Meo, Mr. Alfonzo :--> [' Mr.']\n",
      "van Billiard, Mr. Austin Blyler :--> [' Mr.']\n",
      "Olsen, Mr. Ole Martin :--> [' Mr.']\n",
      "Williams, Mr. Charles Duane :--> [' Mr.']\n",
      "Gilnagh, Miss. Katherine \"Katie\" :--> [' Miss.']\n",
      "Corn, Mr. Harry :--> [' Mr.']\n",
      "Smiljanic, Mr. Mile :--> [' Mr.']\n",
      "Sage, Master. Thomas Henry :--> [' Master.']\n",
      "Cribb, Mr. John Hatfield :--> [' Mr.']\n",
      "Watt, Mrs. James (Elizabeth \"Bessie\" Inglis Milne) :--> [' Mrs.']\n",
      "Bengtsson, Mr. John Viktor :--> [' Mr.']\n",
      "Calic, Mr. Jovo :--> [' Mr.']\n",
      "Panula, Master. Eino Viljami :--> [' Master.']\n",
      "Goldsmith, Master. Frank John William \"Frankie\" :--> [' Master.']\n",
      "Chibnall, Mrs. (Edith Martha Bowerman) :--> [' Mrs.']\n",
      "Skoog, Mrs. William (Anna Bernhardina Karlsson) :--> [' Mrs.']\n",
      "Baumann, Mr. John D :--> [' Mr.']\n",
      "Ling, Mr. Lee :--> [' Mr.']\n",
      "Van der hoef, Mr. Wyckoff :--> [' Mr.']\n",
      "Rice, Master. Arthur :--> [' Master.']\n",
      "Johnson, Miss. Eleanor Ileen :--> [' Miss.']\n",
      "Sivola, Mr. Antti Wilhelm :--> [' Mr.']\n",
      "Smith, Mr. James Clinch :--> [' Mr.']\n",
      "Klasen, Mr. Klas Albin :--> [' Mr.']\n",
      "Lefebre, Master. Henry Forbes :--> [' Master.']\n",
      "Isham, Miss. Ann Elizabeth :--> [' Miss.']\n",
      "Hale, Mr. Reginald :--> [' Mr.']\n",
      "Leonard, Mr. Lionel :--> [' Mr.']\n",
      "Sage, Miss. Constance Gladys :--> [' Miss.']\n",
      "Pernot, Mr. Rene :--> [' Mr.']\n",
      "Asplund, Master. Clarence Gustaf Hugo :--> [' Master.']\n",
      "Becker, Master. Richard F :--> [' Master.']\n",
      "Kink-Heilmann, Miss. Luise Gretchen :--> [' Miss.']\n",
      "Rood, Mr. Hugh Roscoe :--> [' Mr.']\n",
      "O'Brien, Mrs. Thomas (Johanna \"Hannah\" Godfrey) :--> [' Mrs.']\n",
      "Romaine, Mr. Charles Hallace (\"Mr C Rolmane\") :--> [' Mr.']\n",
      "Bourke, Mr. John :--> [' Mr.']\n",
      "Turcin, Mr. Stjepan :--> [' Mr.']\n",
      "Pinsky, Mrs. (Rosa) :--> [' Mrs.']\n",
      "Carbines, Mr. William :--> [' Mr.']\n",
      "Andersen-Jensen, Miss. Carla Christine Nielsine :--> [' Miss.']\n",
      "Navratil, Master. Michel M :--> [' Master.']\n",
      "Brown, Mrs. James Joseph (Margaret Tobin) :--> [' Mrs.']\n",
      "Lurette, Miss. Elise :--> [' Miss.']\n",
      "Mernagh, Mr. Robert :--> [' Mr.']\n",
      "Olsen, Mr. Karl Siegwart Andreas :--> [' Mr.']\n",
      "Madigan, Miss. Margaret \"Maggie\" :--> [' Miss.']\n",
      "Yrois, Miss. Henriette (\"Mrs Harbeck\") :--> [' Miss.']\n",
      "Vande Walle, Mr. Nestor Cyriel :--> [' Mr.']\n",
      "Sage, Mr. Frederick :--> [' Mr.']\n",
      "Johanson, Mr. Jakob Alfred :--> [' Mr.']\n",
      "Youseff, Mr. Gerious :--> [' Mr.']\n",
      "Cohen, Mr. Gurshon \"Gus\" :--> [' Mr.']\n",
      "Strom, Miss. Telma Matilda :--> [' Miss.']\n",
      "Backstrom, Mr. Karl Alfred :--> [' Mr.']\n",
      "Albimona, Mr. Nassef Cassem :--> [' Mr.']\n",
      "Carr, Miss. Helen \"Ellen\" :--> [' Miss.']\n",
      "Blank, Mr. Henry :--> [' Mr.']\n",
      "Ali, Mr. Ahmed :--> [' Mr.']\n",
      "Cameron, Miss. Clear Annie :--> [' Miss.']\n",
      "Perkin, Mr. John Henry :--> [' Mr.']\n",
      "Givard, Mr. Hans Kristensen :--> [' Mr.']\n",
      "Kiernan, Mr. Philip :--> [' Mr.']\n",
      "Newell, Miss. Madeleine :--> [' Miss.']\n",
      "Honkanen, Miss. Eliina :--> [' Miss.']\n",
      "Jacobsohn, Mr. Sidney Samuel :--> [' Mr.']\n",
      "Bazzani, Miss. Albina :--> [' Miss.']\n",
      "Harris, Mr. Walter :--> [' Mr.']\n",
      "Sunderland, Mr. Victor Francis :--> [' Mr.']\n",
      "Bracken, Mr. James H :--> [' Mr.']\n",
      "Green, Mr. George Henry :--> [' Mr.']\n",
      "Nenkoff, Mr. Christo :--> [' Mr.']\n",
      "Hoyt, Mr. Frederick Maxfield :--> [' Mr.']\n",
      "Berglund, Mr. Karl Ivar Sven :--> [' Mr.']\n",
      "Mellors, Mr. William John :--> [' Mr.']\n",
      "Lovell, Mr. John Hall (\"Henry\") :--> [' Mr.']\n",
      "Fahlstrom, Mr. Arne Jonas :--> [' Mr.']\n",
      "Lefebre, Miss. Mathilde :--> [' Miss.']\n",
      "Harris, Mrs. Henry Birkhardt (Irene Wallach) :--> [' Mrs.']\n",
      "Larsson, Mr. Bengt Edvin :--> [' Mr.']\n",
      "Sjostedt, Mr. Ernst Adolf :--> [' Mr.']\n",
      "Asplund, Miss. Lillian Gertrud :--> [' Miss.']\n",
      "Leyson, Mr. Robert William Norman :--> [' Mr.']\n",
      "Harknett, Miss. Alice Phoebe :--> [' Miss.']\n",
      "Hold, Mr. Stephen :--> [' Mr.']\n",
      "Collyer, Miss. Marjorie \"Lottie\" :--> [' Miss.']\n",
      "Pengelly, Mr. Frederick William :--> [' Mr.']\n",
      "Hunt, Mr. George Henry :--> [' Mr.']\n",
      "Zabour, Miss. Thamine :--> [' Miss.']\n",
      "Murphy, Miss. Katherine \"Kate\" :--> [' Miss.']\n",
      "Coleridge, Mr. Reginald Charles :--> [' Mr.']\n",
      "Maenpaa, Mr. Matti Alexanteri :--> [' Mr.']\n",
      "Attalah, Mr. Sleiman :--> [' Mr.']\n",
      "Minahan, Dr. William Edward :--> [' Dr.']\n",
      "Lindahl, Miss. Agda Thorilda Viktoria :--> [' Miss.']\n",
      "Hamalainen, Mrs. William (Anna) :--> [' Mrs.']\n",
      "Beckwith, Mr. Richard Leonard :--> [' Mr.']\n",
      "Carter, Rev. Ernest Courtenay :--> [' Rev.']\n",
      "Reed, Mr. James George :--> [' Mr.']\n",
      "Strom, Mrs. Wilhelm (Elna Matilda Persson) :--> [' Mrs.']\n",
      "Stead, Mr. William Thomas :--> [' Mr.']\n",
      "Lobb, Mr. William Arthur :--> [' Mr.']\n",
      "Rosblom, Mrs. Viktor (Helena Wilhelmina) :--> [' Mrs.']\n",
      "Touma, Mrs. Darwis (Hanne Youssef Razi) :--> [' Mrs.']\n",
      "Thorne, Mrs. Gertrude Maybelle :--> [' Mrs.']\n",
      "Cherry, Miss. Gladys :--> [' Miss.']\n",
      "Ward, Miss. Anna :--> [' Miss.']\n",
      "Parrish, Mrs. (Lutie Davis) :--> [' Mrs.']\n",
      "Smith, Mr. Thomas :--> [' Mr.']\n",
      "Asplund, Master. Edvin Rojj Felix :--> [' Master.']\n",
      "Taussig, Mr. Emil :--> [' Mr.']\n",
      "Harrison, Mr. William :--> [' Mr.']\n",
      "Henry, Miss. Delia :--> [' Miss.']\n",
      "Reeves, Mr. David :--> [' Mr.']\n",
      "Panula, Mr. Ernesti Arvid :--> [' Mr.']\n",
      "Persson, Mr. Ernst Ulrik :--> [' Mr.']\n",
      "Graham, Mrs. William Thompson (Edith Junkins) :--> [' Mrs.']\n",
      "Bissette, Miss. Amelia :--> [' Miss.']\n",
      "Cairns, Mr. Alexander :--> [' Mr.']\n",
      "Tornquist, Mr. William Henry :--> [' Mr.']\n",
      "Mellinger, Mrs. (Elizabeth Anne Maidment) :--> [' Mrs.']\n",
      "Natsch, Mr. Charles H :--> [' Mr.']\n",
      "Healy, Miss. Hanora \"Nora\" :--> [' Miss.']\n",
      "Andrews, Miss. Kornelia Theodosia :--> [' Miss.']\n",
      "Lindblom, Miss. Augusta Charlotta :--> [' Miss.']\n",
      "Parkes, Mr. Francis \"Frank\" :--> [' Mr.']\n",
      "Rice, Master. Eric :--> [' Master.']\n",
      "Abbott, Mrs. Stanton (Rosa Hunt) :--> [' Mrs.']\n",
      "Duane, Mr. Frank :--> [' Mr.']\n",
      "Olsson, Mr. Nils Johan Goransson :--> [' Mr.']\n",
      "de Pelsmaeker, Mr. Alfons :--> [' Mr.']\n",
      "Dorking, Mr. Edward Arthur :--> [' Mr.']\n",
      "Smith, Mr. Richard William :--> [' Mr.']\n",
      "Stankovic, Mr. Ivan :--> [' Mr.']\n",
      "de Mulder, Mr. Theodore :--> [' Mr.']\n",
      "Naidenoff, Mr. Penko :--> [' Mr.']\n",
      "Hosono, Mr. Masabumi :--> [' Mr.']\n",
      "Connolly, Miss. Kate :--> [' Miss.']\n",
      "Barber, Miss. Ellen \"Nellie\" :--> [' Miss.']\n",
      "Bishop, Mrs. Dickinson H (Helen Walton) :--> [' Mrs.']\n",
      "Levy, Mr. Rene Jacques :--> [' Mr.']\n",
      "Haas, Miss. Aloisia :--> [' Miss.']\n",
      "Mineff, Mr. Ivan :--> [' Mr.']\n",
      "Lewy, Mr. Ervin G :--> [' Mr.']\n",
      "Hanna, Mr. Mansour :--> [' Mr.']\n",
      "Allison, Miss. Helen Loraine :--> [' Miss.']\n",
      "Saalfeld, Mr. Adolphe :--> [' Mr.']\n",
      "Baxter, Mrs. James (Helene DeLaudeniere Chaput) :--> [' Mrs.']\n",
      "Kelly, Miss. Anna Katherine \"Annie Kate\" :--> [' Miss.']\n",
      "McCoy, Mr. Bernard :--> [' Mr.']\n",
      "Johnson, Mr. William Cahoone Jr :--> [' Mr.']\n",
      "Keane, Miss. Nora A :--> [' Miss.']\n",
      "Williams, Mr. Howard Hugh \"Harry\" :--> [' Mr.']\n",
      "Allison, Master. Hudson Trevor :--> [' Master.']\n",
      "Fleming, Miss. Margaret :--> [' Miss.']\n",
      "Penasco y Castellana, Mrs. Victor de Satode (Maria Josefa Perez de Soto y Vallejo) :--> [' Mrs.']\n",
      "Abelson, Mr. Samuel :--> [' Mr.']\n",
      "Francatelli, Miss. Laura Mabel :--> [' Miss.']\n",
      "Hays, Miss. Margaret Bechstein :--> [' Miss.']\n",
      "Ryerson, Miss. Emily Borie :--> [' Miss.']\n",
      "Lahtinen, Mrs. William (Anna Sylfven) :--> [' Mrs.']\n",
      "Hendekovic, Mr. Ignjac :--> [' Mr.']\n",
      "Hart, Mr. Benjamin :--> [' Mr.']\n",
      "Nilsson, Miss. Helmina Josefina :--> [' Miss.']\n",
      "Kantor, Mrs. Sinai (Miriam Sternin) :--> [' Mrs.']\n",
      "Moraweck, Dr. Ernest :--> [' Dr.']\n",
      "Wick, Miss. Mary Natalie :--> [' Miss.']\n",
      "Spedden, Mrs. Frederic Oakley (Margaretta Corning Stone) :--> [' Mrs.']\n",
      "Dennis, Mr. Samuel :--> [' Mr.']\n",
      "Danoff, Mr. Yoto :--> [' Mr.']\n",
      "Slayter, Miss. Hilda Mary :--> [' Miss.']\n",
      "Caldwell, Mrs. Albert Francis (Sylvia Mae Harbaugh) :--> [' Mrs.']\n",
      "Sage, Mr. George John Jr :--> [' Mr.']\n",
      "Young, Miss. Marie Grice :--> [' Miss.']\n",
      "Nysveen, Mr. Johan Hansen :--> [' Mr.']\n",
      "Ball, Mrs. (Ada E Hall) :--> [' Mrs.']\n",
      "Goldsmith, Mrs. Frank John (Emily Alice Brown) :--> [' Mrs.']\n",
      "Hippach, Miss. Jean Gertrude :--> [' Miss.']\n",
      "McCoy, Miss. Agnes :--> [' Miss.']\n",
      "Partner, Mr. Austen :--> [' Mr.']\n",
      "Graham, Mr. George Edward :--> [' Mr.']\n",
      "Vander Planke, Mr. Leo Edmondus :--> [' Mr.']\n",
      "Frauenthal, Mrs. Henry William (Clara Heinsheimer) :--> [' Mrs.']\n",
      "Denkoff, Mr. Mitto :--> [' Mr.']\n",
      "Pears, Mr. Thomas Clinton :--> [' Mr.']\n",
      "Burns, Miss. Elizabeth Margaret :--> [' Miss.']\n",
      "Dahl, Mr. Karl Edwart :--> [' Mr.']\n",
      "Blackwell, Mr. Stephen Weart :--> [' Mr.']\n",
      "Navratil, Master. Edmond Roger :--> [' Master.']\n",
      "Fortune, Miss. Alice Elizabeth :--> [' Miss.']\n",
      "Collander, Mr. Erik Gustaf :--> [' Mr.']\n",
      "Sedgwick, Mr. Charles Frederick Waddington :--> [' Mr.']\n",
      "Fox, Mr. Stanley Hubert :--> [' Mr.']\n",
      "Brown, Miss. Amelia \"Mildred\" :--> [' Miss.']\n",
      "Smith, Miss. Marion Elsie :--> [' Miss.']\n",
      "Davison, Mrs. Thomas Henry (Mary E Finck) :--> [' Mrs.']\n",
      "Coutts, Master. William Loch \"William\" :--> [' Master.']\n",
      "Dimic, Mr. Jovan :--> [' Mr.']\n",
      "Odahl, Mr. Nils Martin :--> [' Mr.']\n",
      "Williams-Lambert, Mr. Fletcher Fellows :--> [' Mr.']\n",
      "Elias, Mr. Tannous :--> [' Mr.']\n",
      "Arnold-Franchi, Mr. Josef :--> [' Mr.']\n",
      "Yousif, Mr. Wazli :--> [' Mr.']\n",
      "Vanden Steen, Mr. Leo Peter :--> [' Mr.']\n",
      "Bowerman, Miss. Elsie Edith :--> [' Miss.']\n",
      "Funk, Miss. Annie Clemmer :--> [' Miss.']\n",
      "McGovern, Miss. Mary :--> [' Miss.']\n",
      "Mockler, Miss. Helen Mary \"Ellie\" :--> [' Miss.']\n",
      "Skoog, Mr. Wilhelm :--> [' Mr.']\n",
      "del Carlo, Mr. Sebastiano :--> [' Mr.']\n",
      "Barbara, Mrs. (Catherine David) :--> [' Mrs.']\n",
      "Asim, Mr. Adola :--> [' Mr.']\n",
      "O'Brien, Mr. Thomas :--> [' Mr.']\n",
      "Adahl, Mr. Mauritz Nils Martin :--> [' Mr.']\n",
      "Warren, Mrs. Frank Manley (Anna Sophia Atkinson) :--> [' Mrs.']\n",
      "Moussa, Mrs. (Mantoura Boulos) :--> [' Mrs.']\n",
      "Jermyn, Miss. Annie :--> [' Miss.']\n",
      "Aubart, Mme. Leontine Pauline :--> [' Mme.']\n",
      "Harder, Mr. George Achilles :--> [' Mr.']\n",
      "Wiklund, Mr. Jakob Alfred :--> [' Mr.']\n",
      "Beavan, Mr. William Thomas :--> [' Mr.']\n",
      "Ringhini, Mr. Sante :--> [' Mr.']\n",
      "Palsson, Miss. Stina Viola :--> [' Miss.']\n",
      "Meyer, Mrs. Edgar Joseph (Leila Saks) :--> [' Mrs.']\n",
      "Landergren, Miss. Aurora Adelia :--> [' Miss.']\n",
      "Widener, Mr. Harry Elkins :--> [' Mr.']\n",
      "Betros, Mr. Tannous :--> [' Mr.']\n",
      "Gustafsson, Mr. Karl Gideon :--> [' Mr.']\n",
      "Bidois, Miss. Rosalie :--> [' Miss.']\n",
      "Nakid, Miss. Maria (\"Mary\") :--> [' Miss.']\n",
      "Tikkanen, Mr. Juho :--> [' Mr.']\n",
      "Holverson, Mrs. Alexander Oskar (Mary Aline Towner) :--> [' Mrs.']\n",
      "Plotcharsky, Mr. Vasil :--> [' Mr.']\n",
      "Davies, Mr. Charles Henry :--> [' Mr.']\n",
      "Goodwin, Master. Sidney Leonard :--> [' Master.']\n",
      "Buss, Miss. Kate :--> [' Miss.']\n",
      "Sadlier, Mr. Matthew :--> [' Mr.']\n",
      "Lehmann, Miss. Bertha :--> [' Miss.']\n",
      "Carter, Mr. William Ernest :--> [' Mr.']\n",
      "Jansson, Mr. Carl Olof :--> [' Mr.']\n",
      "Gustafsson, Mr. Johan Birger :--> [' Mr.']\n",
      "Newell, Miss. Marjorie :--> [' Miss.']\n",
      "Sandstrom, Mrs. Hjalmar (Agnes Charlotta Bengtsson) :--> [' Mrs.']\n",
      "Johansson, Mr. Erik :--> [' Mr.']\n",
      "Olsson, Miss. Elina :--> [' Miss.']\n",
      "McKane, Mr. Peter David :--> [' Mr.']\n",
      "Pain, Dr. Alfred :--> [' Dr.']\n",
      "Trout, Mrs. William H (Jessie L) :--> [' Mrs.']\n",
      "Niskanen, Mr. Juha :--> [' Mr.']\n",
      "Adams, Mr. John :--> [' Mr.']\n",
      "Jussila, Miss. Mari Aina :--> [' Miss.']\n",
      "Hakkarainen, Mr. Pekka Pietari :--> [' Mr.']\n",
      "Oreskovic, Miss. Marija :--> [' Miss.']\n",
      "Gale, Mr. Shadrach :--> [' Mr.']\n",
      "Widegren, Mr. Carl/Charles Peter :--> [' Mr.']\n",
      "Richards, Master. William Rowe :--> [' Master.']\n",
      "Birkeland, Mr. Hans Martin Monsen :--> [' Mr.']\n",
      "Lefebre, Miss. Ida :--> [' Miss.']\n",
      "Sdycoff, Mr. Todor :--> [' Mr.']\n",
      "Hart, Mr. Henry :--> [' Mr.']\n",
      "Minahan, Miss. Daisy E :--> [' Miss.']\n",
      "Cunningham, Mr. Alfred Fleming :--> [' Mr.']\n",
      "Sundman, Mr. Johan Julian :--> [' Mr.']\n",
      "Meek, Mrs. Thomas (Annie Louise Rowley) :--> [' Mrs.']\n",
      "Drew, Mrs. James Vivian (Lulu Thorne Christian) :--> [' Mrs.']\n",
      "Silven, Miss. Lyyli Karoliina :--> [' Miss.']\n",
      "Matthews, Mr. William John :--> [' Mr.']\n",
      "Van Impe, Miss. Catharina :--> [' Miss.']\n",
      "Gheorgheff, Mr. Stanio :--> [' Mr.']\n",
      "Charters, Mr. David :--> [' Mr.']\n",
      "Zimmerman, Mr. Leo :--> [' Mr.']\n",
      "Danbom, Mrs. Ernst Gilbert (Anna Sigrid Maria Brogren) :--> [' Mrs.']\n",
      "Rosblom, Mr. Viktor Richard :--> [' Mr.']\n",
      "Wiseman, Mr. Phillippe :--> [' Mr.']\n",
      "Clarke, Mrs. Charles V (Ada Maria Winfield) :--> [' Mrs.']\n",
      "Phillips, Miss. Kate Florence (\"Mrs Kate Louise Phillips Marshall\") :--> [' Miss.']\n",
      "Flynn, Mr. James :--> [' Mr.']\n",
      "Pickard, Mr. Berk (Berk Trembisky) :--> [' Mr.']\n",
      "Bjornstrom-Steffansson, Mr. Mauritz Hakan :--> [' Mr.']\n",
      "Thorneycroft, Mrs. Percival (Florence Kate White) :--> [' Mrs.']\n",
      "Louch, Mrs. Charles Alexander (Alice Adelaide Slow) :--> [' Mrs.']\n",
      "Kallio, Mr. Nikolai Erland :--> [' Mr.']\n",
      "Silvey, Mr. William Baird :--> [' Mr.']\n",
      "Carter, Miss. Lucile Polk :--> [' Miss.']\n",
      "Ford, Miss. Doolina Margaret \"Daisy\" :--> [' Miss.']\n",
      "Richards, Mrs. Sidney (Emily Hocking) :--> [' Mrs.']\n",
      "Fortune, Mr. Mark :--> [' Mr.']\n",
      "Kvillner, Mr. Johan Henrik Johannesson :--> [' Mr.']\n",
      "Hart, Mrs. Benjamin (Esther Ada Bloomfield) :--> [' Mrs.']\n",
      "Hampe, Mr. Leon :--> [' Mr.']\n",
      "Petterson, Mr. Johan Emil :--> [' Mr.']\n",
      "Reynaldo, Ms. Encarnacion :--> [' Ms.']\n",
      "Johannesen-Bratthammer, Mr. Bernt :--> [' Mr.']\n",
      "Dodge, Master. Washington :--> [' Master.']\n",
      "Mellinger, Miss. Madeleine Violet :--> [' Miss.']\n",
      "Seward, Mr. Frederic Kimber :--> [' Mr.']\n",
      "Baclini, Miss. Marie Catherine :--> [' Miss.']\n",
      "Peuchen, Major. Arthur Godfrey :--> [' Major.']\n",
      "West, Mr. Edwy Arthur :--> [' Mr.']\n",
      "Hagland, Mr. Ingvald Olai Olsen :--> [' Mr.']\n",
      "Foreman, Mr. Benjamin Laventall :--> [' Mr.']\n",
      "Goldenberg, Mr. Samuel L :--> [' Mr.']\n",
      "Peduzzi, Mr. Joseph :--> [' Mr.']\n",
      "Jalsevac, Mr. Ivan :--> [' Mr.']\n",
      "Millet, Mr. Francis Davis :--> [' Mr.']\n",
      "Kenyon, Mrs. Frederick R (Marion) :--> [' Mrs.']\n",
      "Toomey, Miss. Ellen :--> [' Miss.']\n",
      "O'Connor, Mr. Maurice :--> [' Mr.']\n",
      "Anderson, Mr. Harry :--> [' Mr.']\n",
      "Morley, Mr. William :--> [' Mr.']\n",
      "Gee, Mr. Arthur H :--> [' Mr.']\n",
      "Milling, Mr. Jacob Christian :--> [' Mr.']\n",
      "Maisner, Mr. Simon :--> [' Mr.']\n",
      "Goncalves, Mr. Manuel Estanslas :--> [' Mr.']\n",
      "Campbell, Mr. William :--> [' Mr.']\n",
      "Smart, Mr. John Montgomery :--> [' Mr.']\n",
      "Scanlan, Mr. James :--> [' Mr.']\n",
      "Baclini, Miss. Helene Barbara :--> [' Miss.']\n",
      "Keefe, Mr. Arthur :--> [' Mr.']\n",
      "Cacic, Mr. Luka :--> [' Mr.']\n",
      "West, Mrs. Edwy Arthur (Ada Mary Worth) :--> [' Mrs.']\n",
      "Jerwan, Mrs. Amin S (Marie Marthe Thuillard) :--> [' Mrs.']\n",
      "Strandberg, Miss. Ida Sofia :--> [' Miss.']\n",
      "Clifford, Mr. George Quincy :--> [' Mr.']\n",
      "Renouf, Mr. Peter Henry :--> [' Mr.']\n",
      "Braund, Mr. Lewis Richard :--> [' Mr.']\n",
      "Karlsson, Mr. Nils August :--> [' Mr.']\n",
      "Hirvonen, Miss. Hildur E :--> [' Miss.']\n",
      "Goodwin, Master. Harold Victor :--> [' Master.']\n",
      "Frost, Mr. Anthony Wood \"Archie\" :--> [' Mr.']\n",
      "Rouse, Mr. Richard Henry :--> [' Mr.']\n",
      "Turkula, Mrs. (Hedwig) :--> [' Mrs.']\n",
      "Bishop, Mr. Dickinson H :--> [' Mr.']\n",
      "Lefebre, Miss. Jeannie :--> [' Miss.']\n",
      "Hoyt, Mrs. Frederick Maxfield (Jane Anne Forby) :--> [' Mrs.']\n",
      "Kent, Mr. Edward Austin :--> [' Mr.']\n",
      "Somerton, Mr. Francis William :--> [' Mr.']\n",
      "Coutts, Master. Eden Leslie \"Neville\" :--> [' Master.']\n",
      "Hagland, Mr. Konrad Mathias Reiersen :--> [' Mr.']\n",
      "Windelov, Mr. Einar :--> [' Mr.']\n",
      "Molson, Mr. Harry Markland :--> [' Mr.']\n",
      "Artagaveytia, Mr. Ramon :--> [' Mr.']\n",
      "Stanley, Mr. Edward Roland :--> [' Mr.']\n",
      "Yousseff, Mr. Gerious :--> [' Mr.']\n",
      "Eustis, Miss. Elizabeth Mussey :--> [' Miss.']\n",
      "Shellard, Mr. Frederick William :--> [' Mr.']\n",
      "Allison, Mrs. Hudson J C (Bessie Waldo Daniels) :--> [' Mrs.']\n",
      "Svensson, Mr. Olof :--> [' Mr.']\n",
      "Calic, Mr. Petar :--> [' Mr.']\n",
      "Canavan, Miss. Mary :--> [' Miss.']\n",
      "O'Sullivan, Miss. Bridget Mary :--> [' Miss.']\n",
      "Laitinen, Miss. Kristina Sofia :--> [' Miss.']\n",
      "Maioni, Miss. Roberta :--> [' Miss.']\n",
      "Penasco y Castellana, Mr. Victor de Satode :--> [' Mr.']\n",
      "Quick, Mrs. Frederick Charles (Jane Richards) :--> [' Mrs.']\n",
      "Bradley, Mr. George (\"George Arthur Brayton\") :--> [' Mr.']\n",
      "Olsen, Mr. Henry Margido :--> [' Mr.']\n",
      "Lang, Mr. Fang :--> [' Mr.']\n",
      "Daly, Mr. Eugene Patrick :--> [' Mr.']\n",
      "Webber, Mr. James :--> [' Mr.']\n",
      "McGough, Mr. James Robert :--> [' Mr.']\n",
      "Rothschild, Mrs. Martin (Elizabeth L. Barrett) :--> [' Mrs.', ' L.']\n",
      "Coleff, Mr. Satio :--> [' Mr.']\n",
      "Walker, Mr. William Anderson :--> [' Mr.']\n",
      "Lemore, Mrs. (Amelia Milley) :--> [' Mrs.']\n",
      "Ryan, Mr. Patrick :--> [' Mr.']\n",
      "Angle, Mrs. William A (Florence \"Mary\" Agnes Hughes) :--> [' Mrs.']\n",
      "Pavlovic, Mr. Stefo :--> [' Mr.']\n",
      "Perreault, Miss. Anne :--> [' Miss.']\n",
      "Vovk, Mr. Janko :--> [' Mr.']\n",
      "Lahoud, Mr. Sarkis :--> [' Mr.']\n",
      "Hippach, Mrs. Louis Albert (Ida Sophia Fischer) :--> [' Mrs.']\n",
      "Kassem, Mr. Fared :--> [' Mr.']\n",
      "Farrell, Mr. James :--> [' Mr.']\n",
      "Ridsdale, Miss. Lucy :--> [' Miss.']\n",
      "Farthing, Mr. John :--> [' Mr.']\n",
      "Salonen, Mr. Johan Werner :--> [' Mr.']\n",
      "Hocking, Mr. Richard George :--> [' Mr.']\n",
      "Quick, Miss. Phyllis May :--> [' Miss.']\n",
      "Toufik, Mr. Nakli :--> [' Mr.']\n",
      "Elias, Mr. Joseph Jr :--> [' Mr.']\n",
      "Peter, Mrs. Catherine (Catherine Rizk) :--> [' Mrs.']\n",
      "Cacic, Miss. Marija :--> [' Miss.']\n",
      "Hart, Miss. Eva Miriam :--> [' Miss.']\n",
      "Butt, Major. Archibald Willingham :--> [' Major.']\n",
      "LeRoy, Miss. Bertha :--> [' Miss.']\n",
      "Risien, Mr. Samuel Beard :--> [' Mr.']\n",
      "Frolicher, Miss. Hedwig Margaritha :--> [' Miss.']\n",
      "Crosby, Miss. Harriet R :--> [' Miss.']\n",
      "Andersson, Miss. Ingeborg Constanzia :--> [' Miss.']\n",
      "Andersson, Miss. Sigrid Elisabeth :--> [' Miss.']\n",
      "Beane, Mr. Edward :--> [' Mr.']\n",
      "Douglas, Mr. Walter Donald :--> [' Mr.']\n",
      "Nicholson, Mr. Arthur Ernest :--> [' Mr.']\n",
      "Beane, Mrs. Edward (Ethel Clarke) :--> [' Mrs.']\n",
      "Padro y Manent, Mr. Julian :--> [' Mr.']\n",
      "Goldsmith, Mr. Frank John :--> [' Mr.']\n",
      "Davies, Master. John Morgan Jr :--> [' Master.']\n",
      "Thayer, Mr. John Borland Jr :--> [' Mr.']\n",
      "Sharp, Mr. Percival James R :--> [' Mr.']\n",
      "O'Brien, Mr. Timothy :--> [' Mr.']\n",
      "Leeni, Mr. Fahim (\"Philip Zenni\") :--> [' Mr.']\n",
      "Ohman, Miss. Velin :--> [' Miss.']\n",
      "Wright, Mr. George :--> [' Mr.']\n",
      "Duff Gordon, Lady. (Lucille Christiana Sutherland) (\"Mrs Morgan\") :--> [' Lady.']\n",
      "Robbins, Mr. Victor :--> [' Mr.']\n",
      "Taussig, Mrs. Emil (Tillie Mandelbaum) :--> [' Mrs.']\n",
      "de Messemaeker, Mrs. Guillaume Joseph (Emma) :--> [' Mrs.']\n",
      "Morrow, Mr. Thomas Rowan :--> [' Mr.']\n",
      "Sivic, Mr. Husein :--> [' Mr.']\n",
      "Norman, Mr. Robert Douglas :--> [' Mr.']\n",
      "Simmons, Mr. John :--> [' Mr.']\n",
      "Meanwell, Miss. (Marion Ogden) :--> [' Miss.']\n",
      "Davies, Mr. Alfred J :--> [' Mr.']\n",
      "Stoytcheff, Mr. Ilia :--> [' Mr.']\n",
      "Palsson, Mrs. Nils (Alma Cornelia Berglund) :--> [' Mrs.']\n",
      "Doharr, Mr. Tannous :--> [' Mr.']\n",
      "Jonsson, Mr. Carl :--> [' Mr.']\n",
      "Harris, Mr. George :--> [' Mr.']\n",
      "Appleton, Mrs. Edward Dale (Charlotte Lamson) :--> [' Mrs.']\n",
      "Flynn, Mr. John Irwin (\"Irving\") :--> [' Mr.']\n",
      "Kelly, Miss. Mary :--> [' Miss.']\n",
      "Rush, Mr. Alfred George John :--> [' Mr.']\n",
      "Patchett, Mr. George :--> [' Mr.']\n",
      "Garside, Miss. Ethel :--> [' Miss.']\n",
      "Silvey, Mrs. William Baird (Alice Munger) :--> [' Mrs.']\n",
      "Caram, Mrs. Joseph (Maria Elias) :--> [' Mrs.']\n",
      "Jussila, Mr. Eiriik :--> [' Mr.']\n",
      "Christy, Miss. Julie Rachel :--> [' Miss.']\n",
      "Thayer, Mrs. John Borland (Marian Longstreth Morris) :--> [' Mrs.']\n",
      "Downton, Mr. William James :--> [' Mr.']\n",
      "Ross, Mr. John Hugo :--> [' Mr.']\n",
      "Paulner, Mr. Uscher :--> [' Mr.']\n",
      "Taussig, Miss. Ruth :--> [' Miss.']\n",
      "Jarvis, Mr. John Denzil :--> [' Mr.']\n",
      "Frolicher-Stehli, Mr. Maxmillian :--> [' Mr.']\n",
      "Gilinski, Mr. Eliezer :--> [' Mr.']\n",
      "Murdlin, Mr. Joseph :--> [' Mr.']\n",
      "Rintamaki, Mr. Matti :--> [' Mr.']\n",
      "Stephenson, Mrs. Walter Bertram (Martha Eustis) :--> [' Mrs.']\n",
      "Elsbury, Mr. William James :--> [' Mr.']\n",
      "Bourke, Miss. Mary :--> [' Miss.']\n",
      "Chapman, Mr. John Henry :--> [' Mr.']\n",
      "Van Impe, Mr. Jean Baptiste :--> [' Mr.']\n",
      "Leitch, Miss. Jessie Wills :--> [' Miss.']\n",
      "Johnson, Mr. Alfred :--> [' Mr.']\n",
      "Boulos, Mr. Hanna :--> [' Mr.']\n",
      "Duff Gordon, Sir. Cosmo Edmund (\"Mr Morgan\") :--> [' Sir.']\n",
      "Jacobsohn, Mrs. Sidney Samuel (Amy Frances Christy) :--> [' Mrs.']\n",
      "Slabenoff, Mr. Petco :--> [' Mr.']\n",
      "Harrington, Mr. Charles H :--> [' Mr.']\n",
      "Torber, Mr. Ernst William :--> [' Mr.']\n",
      "Homer, Mr. Harry (\"Mr E Haven\") :--> [' Mr.']\n",
      "Lindell, Mr. Edvard Bengtsson :--> [' Mr.']\n",
      "Karaic, Mr. Milan :--> [' Mr.']\n",
      "Daniel, Mr. Robert Williams :--> [' Mr.']\n",
      "Laroche, Mrs. Joseph (Juliette Marie Louise Lafargue) :--> [' Mrs.']\n",
      "Shutes, Miss. Elizabeth W :--> [' Miss.']\n",
      "Andersson, Mrs. Anders Johan (Alfrida Konstantia Brogren) :--> [' Mrs.']\n",
      "Jardin, Mr. Jose Neto :--> [' Mr.']\n",
      "Murphy, Miss. Margaret Jane :--> [' Miss.']\n",
      "Horgan, Mr. John :--> [' Mr.']\n",
      "Brocklebank, Mr. William Alfred :--> [' Mr.']\n",
      "Herman, Miss. Alice :--> [' Miss.']\n",
      "Danbom, Mr. Ernst Gilbert :--> [' Mr.']\n",
      "Lobb, Mrs. William Arthur (Cordelia K Stanlick) :--> [' Mrs.']\n",
      "Becker, Miss. Marion Louise :--> [' Miss.']\n",
      "Gavey, Mr. Lawrence :--> [' Mr.']\n",
      "Yasbeck, Mr. Antoni :--> [' Mr.']\n",
      "Kimball, Mr. Edwin Nelson Jr :--> [' Mr.']\n",
      "Nakid, Mr. Sahid :--> [' Mr.']\n",
      "Hansen, Mr. Henry Damsgaard :--> [' Mr.']\n",
      "Bowen, Mr. David John \"Dai\" :--> [' Mr.']\n",
      "Sutton, Mr. Frederick :--> [' Mr.']\n",
      "Kirkland, Rev. Charles Leonard :--> [' Rev.']\n",
      "Longley, Miss. Gretchen Fiske :--> [' Miss.']\n",
      "Bostandyeff, Mr. Guentcho :--> [' Mr.']\n",
      "O'Connell, Mr. Patrick D :--> [' Mr.']\n",
      "Barkworth, Mr. Algernon Henry Wilson :--> [' Mr.']\n",
      "Lundahl, Mr. Johan Svensson :--> [' Mr.']\n",
      "Stahelin-Maeglin, Dr. Max :--> [' Dr.']\n",
      "Parr, Mr. William Henry Marsh :--> [' Mr.']\n",
      "Skoog, Miss. Mabel :--> [' Miss.']\n",
      "Davis, Miss. Mary :--> [' Miss.']\n",
      "Leinonen, Mr. Antti Gustaf :--> [' Mr.']\n",
      "Collyer, Mr. Harvey :--> [' Mr.']\n",
      "Panula, Mrs. Juha (Maria Emilia Ojala) :--> [' Mrs.']\n",
      "Thorneycroft, Mr. Percival :--> [' Mr.']\n",
      "Jensen, Mr. Hans Peder :--> [' Mr.']\n",
      "Sagesser, Mlle. Emma :--> [' Mlle.']\n",
      "Skoog, Miss. Margit Elizabeth :--> [' Miss.']\n",
      "Foo, Mr. Choong :--> [' Mr.']\n",
      "Baclini, Miss. Eugenie :--> [' Miss.']\n",
      "Harper, Mr. Henry Sleeper :--> [' Mr.']\n",
      "Cor, Mr. Liudevit :--> [' Mr.']\n",
      "Simonius-Blumer, Col. Oberst Alfons :--> [' Col.']\n",
      "Willey, Mr. Edward :--> [' Mr.']\n",
      "Stanley, Miss. Amy Zillah Elsie :--> [' Miss.']\n",
      "Mitkoff, Mr. Mito :--> [' Mr.']\n",
      "Doling, Miss. Elsie :--> [' Miss.']\n",
      "Kalvik, Mr. Johannes Halvorsen :--> [' Mr.']\n",
      "O'Leary, Miss. Hanora \"Norah\" :--> [' Miss.']\n",
      "Hegarty, Miss. Hanora \"Nora\" :--> [' Miss.']\n",
      "Hickman, Mr. Leonard Mark :--> [' Mr.']\n",
      "Radeff, Mr. Alexander :--> [' Mr.']\n",
      "Bourke, Mrs. John (Catherine) :--> [' Mrs.']\n",
      "Eitemiller, Mr. George Floyd :--> [' Mr.']\n",
      "Newell, Mr. Arthur Webster :--> [' Mr.']\n",
      "Frauenthal, Dr. Henry William :--> [' Dr.']\n",
      "Badt, Mr. Mohamed :--> [' Mr.']\n",
      "Colley, Mr. Edward Pomeroy :--> [' Mr.']\n",
      "Coleff, Mr. Peju :--> [' Mr.']\n",
      "Lindqvist, Mr. Eino William :--> [' Mr.']\n",
      "Hickman, Mr. Lewis :--> [' Mr.']\n",
      "Butler, Mr. Reginald Fenton :--> [' Mr.']\n",
      "Rommetvedt, Mr. Knud Paust :--> [' Mr.']\n",
      "Cook, Mr. Jacob :--> [' Mr.']\n",
      "Taylor, Mrs. Elmer Zebley (Juliet Cummins Wright) :--> [' Mrs.']\n",
      "Brown, Mrs. Thomas William Solomon (Elizabeth Catherine Ford) :--> [' Mrs.']\n",
      "Davidson, Mr. Thornton :--> [' Mr.']\n",
      "Mitchell, Mr. Henry Michael :--> [' Mr.']\n",
      "Wilhelms, Mr. Charles :--> [' Mr.']\n",
      "Watson, Mr. Ennis Hastings :--> [' Mr.']\n",
      "Edvardsson, Mr. Gustaf Hjalmar :--> [' Mr.']\n",
      "Sawyer, Mr. Frederick Charles :--> [' Mr.']\n",
      "Turja, Miss. Anna Sofia :--> [' Miss.']\n",
      "Goodwin, Mrs. Frederick (Augusta Tyler) :--> [' Mrs.']\n",
      "Cardeza, Mr. Thomas Drake Martinez :--> [' Mr.']\n",
      "Peters, Miss. Katie :--> [' Miss.']\n",
      "Hassab, Mr. Hammad :--> [' Mr.']\n",
      "Olsvigen, Mr. Thor Anderson :--> [' Mr.']\n",
      "Goodwin, Mr. Charles Edward :--> [' Mr.']\n",
      "Brown, Mr. Thomas William Solomon :--> [' Mr.']\n",
      "Laroche, Mr. Joseph Philippe Lemercier :--> [' Mr.']\n",
      "Panula, Mr. Jaako Arnold :--> [' Mr.']\n",
      "Dakic, Mr. Branko :--> [' Mr.']\n",
      "Fischer, Mr. Eberhard Thelander :--> [' Mr.']\n",
      "Madill, Miss. Georgette Alexandra :--> [' Miss.']\n",
      "Dick, Mr. Albert Adrian :--> [' Mr.']\n",
      "Karun, Miss. Manca :--> [' Miss.']\n",
      "Lam, Mr. Ali :--> [' Mr.']\n",
      "Saad, Mr. Khalil :--> [' Mr.']\n",
      "Weir, Col. John :--> [' Col.']\n",
      "Chapman, Mr. Charles Henry :--> [' Mr.']\n",
      "Kelly, Mr. James :--> [' Mr.']\n",
      "Mullens, Miss. Katherine \"Katie\" :--> [' Miss.']\n",
      "Thayer, Mr. John Borland :--> [' Mr.']\n",
      "Humblen, Mr. Adolf Mathias Nicolai Olsen :--> [' Mr.']\n",
      "Astor, Mrs. John Jacob (Madeleine Talmadge Force) :--> [' Mrs.']\n",
      "Silverthorne, Mr. Spencer Victor :--> [' Mr.']\n",
      "Barbara, Miss. Saiide :--> [' Miss.']\n",
      "Gallagher, Mr. Martin :--> [' Mr.']\n",
      "Hansen, Mr. Henrik Juul :--> [' Mr.']\n",
      "Morley, Mr. Henry Samuel (\"Mr Henry Marshall\") :--> [' Mr.']\n",
      "Kelly, Mrs. Florence \"Fannie\" :--> [' Mrs.']\n",
      "Calderhead, Mr. Edward Pennington :--> [' Mr.']\n",
      "Cleaver, Miss. Alice :--> [' Miss.']\n",
      "Moubarek, Master. Halim Gonios (\"William George\") :--> [' Master.']\n",
      "Mayne, Mlle. Berthe Antonine (\"Mrs de Villiers\") :--> [' Mlle.']\n",
      "Klaber, Mr. Herman :--> [' Mr.']\n",
      "Taylor, Mr. Elmer Zebley :--> [' Mr.']\n",
      "Larsson, Mr. August Viktor :--> [' Mr.']\n",
      "Greenberg, Mr. Samuel :--> [' Mr.']\n",
      "Soholt, Mr. Peter Andreas Lauritz Andersen :--> [' Mr.']\n",
      "Endres, Miss. Caroline Louise :--> [' Miss.']\n",
      "Troutt, Miss. Edwina Celia \"Winnie\" :--> [' Miss.']\n",
      "McEvoy, Mr. Michael :--> [' Mr.']\n",
      "Johnson, Mr. Malkolm Joackim :--> [' Mr.']\n",
      "Harper, Miss. Annie Jessie \"Nina\" :--> [' Miss.']\n",
      "Jensen, Mr. Svend Lauritz :--> [' Mr.']\n",
      "Gillespie, Mr. William Henry :--> [' Mr.']\n",
      "Hodges, Mr. Henry Price :--> [' Mr.']\n",
      "Chambers, Mr. Norman Campbell :--> [' Mr.']\n",
      "Oreskovic, Mr. Luka :--> [' Mr.']\n",
      "Renouf, Mrs. Peter Henry (Lillian Jefferys) :--> [' Mrs.']\n",
      "Mannion, Miss. Margareth :--> [' Miss.']\n",
      "Bryhl, Mr. Kurt Arnold Gottfrid :--> [' Mr.']\n",
      "Ilmakangas, Miss. Pieta Sofia :--> [' Miss.']\n",
      "Allen, Miss. Elisabeth Walton :--> [' Miss.']\n",
      "Hassan, Mr. Houssein G N :--> [' Mr.']\n",
      "Knight, Mr. Robert J :--> [' Mr.']\n",
      "Berriman, Mr. William John :--> [' Mr.']\n",
      "Troupiansky, Mr. Moses Aaron :--> [' Mr.']\n",
      "Williams, Mr. Leslie :--> [' Mr.']\n",
      "Ford, Mrs. Edward (Margaret Ann Watson) :--> [' Mrs.']\n",
      "Lesurer, Mr. Gustave J :--> [' Mr.']\n",
      "Ivanoff, Mr. Kanio :--> [' Mr.']\n",
      "Nankoff, Mr. Minko :--> [' Mr.']\n",
      "Hawksford, Mr. Walter James :--> [' Mr.']\n",
      "Cavendish, Mr. Tyrell William :--> [' Mr.']\n",
      "Ryerson, Miss. Susan Parker \"Suzette\" :--> [' Miss.']\n",
      "McNamee, Mr. Neal :--> [' Mr.']\n",
      "Stranden, Mr. Juho :--> [' Mr.']\n",
      "Crosby, Capt. Edward Gifford :--> [' Capt.']\n",
      "Abbott, Mr. Rossmore Edward :--> [' Mr.']\n",
      "Sinkkonen, Miss. Anna :--> [' Miss.']\n",
      "Marvin, Mr. Daniel Warner :--> [' Mr.']\n",
      "Connaghton, Mr. Michael :--> [' Mr.']\n",
      "Wells, Miss. Joan :--> [' Miss.']\n",
      "Moor, Master. Meier :--> [' Master.']\n",
      "Vande Velde, Mr. Johannes Joseph :--> [' Mr.']\n",
      "Jonkoff, Mr. Lalio :--> [' Mr.']\n",
      "Herman, Mrs. Samuel (Jane Laver) :--> [' Mrs.']\n",
      "Hamalainen, Master. Viljo :--> [' Master.']\n",
      "Carlsson, Mr. August Sigfrid :--> [' Mr.']\n",
      "Bailey, Mr. Percy Andrew :--> [' Mr.']\n",
      "Theobald, Mr. Thomas Leonard :--> [' Mr.']\n",
      "Rothes, the Countess. of (Lucy Noel Martha Dyer-Edwards) :--> [' Countess.']\n",
      "Garfirth, Mr. John :--> [' Mr.']\n",
      "Nirva, Mr. Iisakki Antino Aijo :--> [' Mr.']\n",
      "Barah, Mr. Hanna Assi :--> [' Mr.']\n",
      "Carter, Mrs. William Ernest (Lucile Polk) :--> [' Mrs.']\n",
      "Eklund, Mr. Hans Linus :--> [' Mr.']\n",
      "Hogeboom, Mrs. John C (Anna Andrews) :--> [' Mrs.']\n",
      "Brewe, Dr. Arthur Jackson :--> [' Dr.']\n",
      "Mangan, Miss. Mary :--> [' Miss.']\n",
      "Moran, Mr. Daniel J :--> [' Mr.']\n",
      "Gronnestad, Mr. Daniel Danielsen :--> [' Mr.']\n",
      "Lievens, Mr. Rene Aime :--> [' Mr.']\n",
      "Jensen, Mr. Niels Peder :--> [' Mr.']\n",
      "Mack, Mrs. (Mary) :--> [' Mrs.']\n",
      "Elias, Mr. Dibo :--> [' Mr.']\n",
      "Hocking, Mrs. Elizabeth (Eliza Needs) :--> [' Mrs.']\n",
      "Myhrman, Mr. Pehr Fabian Oliver Malkolm :--> [' Mr.']\n",
      "Tobin, Mr. Roger :--> [' Mr.']\n",
      "Emanuel, Miss. Virginia Ethel :--> [' Miss.']\n",
      "Kilgannon, Mr. Thomas J :--> [' Mr.']\n",
      "Robert, Mrs. Edward Scott (Elisabeth Walton McMillan) :--> [' Mrs.']\n",
      "Ayoub, Miss. Banoura :--> [' Miss.']\n",
      "Dick, Mrs. Albert Adrian (Vera Gillespie) :--> [' Mrs.']\n",
      "Long, Mr. Milton Clyde :--> [' Mr.']\n",
      "Johnston, Mr. Andrew G :--> [' Mr.']\n",
      "Ali, Mr. William :--> [' Mr.']\n",
      "Harmer, Mr. Abraham (David Lishin) :--> [' Mr.']\n",
      "Sjoblom, Miss. Anna Sofia :--> [' Miss.']\n",
      "Rice, Master. George Hugh :--> [' Master.']\n",
      "Dean, Master. Bertram Vere :--> [' Master.']\n",
      "Guggenheim, Mr. Benjamin :--> [' Mr.']\n",
      "Keane, Mr. Andrew \"Andy\" :--> [' Mr.']\n",
      "Gaskell, Mr. Alfred :--> [' Mr.']\n",
      "Sage, Miss. Stella Anna :--> [' Miss.']\n",
      "Hoyt, Mr. William Fisher :--> [' Mr.']\n",
      "Dantcheff, Mr. Ristiu :--> [' Mr.']\n",
      "Otter, Mr. Richard :--> [' Mr.']\n",
      "Leader, Dr. Alice (Farnham) :--> [' Dr.']\n",
      "Osman, Mrs. Mara :--> [' Mrs.']\n",
      "Ibrahim Shawah, Mr. Yousseff :--> [' Mr.']\n",
      "Van Impe, Mrs. Jean Baptiste (Rosalie Paula Govaert) :--> [' Mrs.']\n",
      "Ponesell, Mr. Martin :--> [' Mr.']\n",
      "Collyer, Mrs. Harvey (Charlotte Annie Tate) :--> [' Mrs.']\n",
      "Carter, Master. William Thornton II :--> [' Master.']\n",
      "Thomas, Master. Assad Alexander :--> [' Master.']\n",
      "Hedman, Mr. Oskar Arvid :--> [' Mr.']\n",
      "Johansson, Mr. Karl Johan :--> [' Mr.']\n",
      "Andrews, Mr. Thomas Jr :--> [' Mr.']\n",
      "Pettersson, Miss. Ellen Natalia :--> [' Miss.']\n",
      "Meyer, Mr. August :--> [' Mr.']\n",
      "Chambers, Mrs. Norman Campbell (Bertha Griggs) :--> [' Mrs.']\n",
      "Alexander, Mr. William :--> [' Mr.']\n",
      "Lester, Mr. James :--> [' Mr.']\n",
      "Slemen, Mr. Richard James :--> [' Mr.']\n",
      "Andersson, Miss. Ebba Iris Alfrida :--> [' Miss.']\n",
      "Tomlin, Mr. Ernest Portage :--> [' Mr.']\n",
      "Fry, Mr. Richard :--> [' Mr.']\n",
      "Heininen, Miss. Wendla Maria :--> [' Miss.']\n",
      "Mallet, Mr. Albert :--> [' Mr.']\n",
      "Holm, Mr. John Fredrik Alexander :--> [' Mr.']\n",
      "Skoog, Master. Karl Thorsten :--> [' Master.']\n",
      "Hays, Mrs. Charles Melville (Clara Jennings Gregg) :--> [' Mrs.']\n",
      "Lulic, Mr. Nikola :--> [' Mr.']\n",
      "Reuchlin, Jonkheer. John George :--> [' Jonkheer.']\n",
      "Moor, Mrs. (Beila) :--> [' Mrs.']\n",
      "Panula, Master. Urho Abraham :--> [' Master.']\n",
      "Flynn, Mr. John :--> [' Mr.']\n",
      "Lam, Mr. Len :--> [' Mr.']\n",
      "Mallet, Master. Andre :--> [' Master.']\n",
      "McCormack, Mr. Thomas Joseph :--> [' Mr.']\n",
      "Stone, Mrs. George Nelson (Martha Evelyn) :--> [' Mrs.']\n",
      "Yasbeck, Mrs. Antoni (Selini Alexander) :--> [' Mrs.']\n",
      "Richards, Master. George Sibley :--> [' Master.']\n",
      "Saad, Mr. Amin :--> [' Mr.']\n",
      "Augustsson, Mr. Albert :--> [' Mr.']\n",
      "Allum, Mr. Owen George :--> [' Mr.']\n",
      "Compton, Miss. Sara Rebecca :--> [' Miss.']\n",
      "Pasic, Mr. Jakob :--> [' Mr.']\n",
      "Sirota, Mr. Maurice :--> [' Mr.']\n",
      "Chip, Mr. Chang :--> [' Mr.']\n",
      "Marechal, Mr. Pierre :--> [' Mr.']\n",
      "Alhomaki, Mr. Ilmari Rudolf :--> [' Mr.']\n",
      "Mudd, Mr. Thomas Charles :--> [' Mr.']\n",
      "Serepeca, Miss. Augusta :--> [' Miss.']\n",
      "Lemberopolous, Mr. Peter L :--> [' Mr.']\n",
      "Culumovic, Mr. Jeso :--> [' Mr.']\n",
      "Abbing, Mr. Anthony :--> [' Mr.']\n",
      "Sage, Mr. Douglas Bullen :--> [' Mr.']\n",
      "Markoff, Mr. Marin :--> [' Mr.']\n",
      "Harper, Rev. John :--> [' Rev.']\n",
      "Goldenberg, Mrs. Samuel L (Edwiga Grabowska) :--> [' Mrs.']\n",
      "Andersson, Master. Sigvard Harald Elias :--> [' Master.']\n",
      "Svensson, Mr. Johan :--> [' Mr.']\n",
      "Boulos, Miss. Nourelain :--> [' Miss.']\n",
      "Lines, Miss. Mary Conover :--> [' Miss.']\n",
      "Carter, Mrs. Ernest Courtenay (Lilian Hughes) :--> [' Mrs.']\n",
      "Aks, Mrs. Sam (Leah Rosen) :--> [' Mrs.']\n",
      "Wick, Mrs. George Dennick (Mary Hitchcock) :--> [' Mrs.']\n",
      "Daly, Mr. Peter Denis  :--> [' Mr.']\n",
      "Baclini, Mrs. Solomon (Latifa Qurban) :--> [' Mrs.']\n",
      "Razi, Mr. Raihed :--> [' Mr.']\n",
      "Hansen, Mr. Claus Peter :--> [' Mr.']\n",
      "Giles, Mr. Frederick Edward :--> [' Mr.']\n",
      "Swift, Mrs. Frederick Joel (Margaret Welles Barron) :--> [' Mrs.']\n",
      "Sage, Miss. Dorothy Edith \"Dolly\" :--> [' Miss.']\n",
      "Gill, Mr. John William :--> [' Mr.']\n",
      "Bystrom, Mrs. (Karolina) :--> [' Mrs.']\n",
      "Duran y More, Miss. Asuncion :--> [' Miss.']\n",
      "Roebling, Mr. Washington Augustus II :--> [' Mr.']\n",
      "van Melkebeke, Mr. Philemon :--> [' Mr.']\n",
      "Johnson, Master. Harold Theodor :--> [' Master.']\n",
      "Balkic, Mr. Cerin :--> [' Mr.']\n",
      "Beckwith, Mrs. Richard Leonard (Sallie Monypeny) :--> [' Mrs.']\n",
      "Carlsson, Mr. Frans Olof :--> [' Mr.']\n",
      "Vander Cruyssen, Mr. Victor :--> [' Mr.']\n",
      "Abelson, Mrs. Samuel (Hannah Wizosky) :--> [' Mrs.']\n",
      "Najib, Miss. Adele Kiamie \"Jane\" :--> [' Miss.']\n",
      "Gustafsson, Mr. Alfred Ossian :--> [' Mr.']\n",
      "Petroff, Mr. Nedelio :--> [' Mr.']\n",
      "Laleff, Mr. Kristo :--> [' Mr.']\n",
      "Potter, Mrs. Thomas Jr (Lily Alexenia Wilson) :--> [' Mrs.']\n",
      "Shelley, Mrs. William (Imanita Parrish Hall) :--> [' Mrs.']\n",
      "Markun, Mr. Johann :--> [' Mr.']\n",
      "Dahlberg, Miss. Gerda Ulrika :--> [' Miss.']\n",
      "Banfield, Mr. Frederick James :--> [' Mr.']\n",
      "Sutehall, Mr. Henry Jr :--> [' Mr.']\n",
      "Rice, Mrs. William (Margaret Norton) :--> [' Mrs.']\n",
      "Montvila, Rev. Juozas :--> [' Rev.']\n",
      "Graham, Miss. Margaret Edith :--> [' Miss.']\n",
      "Johnston, Miss. Catherine Helen \"Carrie\" :--> [' Miss.']\n",
      "Behr, Mr. Karl Howell :--> [' Mr.']\n",
      "Dooley, Mr. Patrick :--> [' Mr.']\n"
     ]
    }
   ],
   "source": [
    "import openpyxl\n",
    "import re\n",
    "\n",
    "regex = re.compile(' [A-Za-z]+\\.')\n",
    "\n",
    "work_book = openpyxl.load_workbook('train.xlsx')\n",
    "work_sheet = work_book.active\n",
    "\n",
    "for each_row in work_sheet.rows:\n",
    "    # print(each_row[3].value)\n",
    "    # print(regex.findall(each_row[3].value))\n",
    "    print(f\"{each_row[3].value} :--> {regex.findall(each_row[3].value)}\")\n",
    "    \n",
    "work_book.close()"
   ]
  },
  {
   "cell_type": "markdown",
   "metadata": {},
   "source": [
    "<div class=\"alert alert-block alert-success\">\n",
    "<strong><font color=\"blue\" size=\"4em\">프로그래밍 연습(생각만 해보기)</font></strong><br>\n",
    "다음 코드를 실행해보고, 이름 정보를 통해 남자인지, 여자인지, 기타인지(남녀 구별 불가)를 확인할 수 있는 방법 생각해보기\n",
    "</div>\n",
    "<pre>\n",
    "import openpyxl\n",
    " \n",
    "## 엑셀파일 열기\n",
    "work_book = openpyxl.load_workbook('train.xlsx')\n",
    " \n",
    "## 현재 Active Sheet 얻기\n",
    "work_sheet = work_book.active\n",
    "\n",
    "## work_sheet.rows는 해당 쉬트의 모든 행을 객체로 가지고 있음\n",
    "for each_row in work_sheet.rows:\n",
    "    print (each_row[3].value)\n",
    "    \n",
    "work_book.close()\n",
    "</pre>"
   ]
  },
  {
   "cell_type": "markdown",
   "metadata": {},
   "source": [
    "### 세 라인의 코드를 추가하면 이름의 특징을 추출할 수 있음\n",
    "<pre>\n",
    "import re\n",
    "regex = re.compile('[A-Za-z]+\\.')\n",
    "print ( regex.findall('찾을 문자열') )\n",
    "</pre>"
   ]
  },
  {
   "cell_type": "markdown",
   "metadata": {},
   "source": [
    "### 이름 데이터만 보고 성별관련 정보 알아내기"
   ]
  },
  {
   "cell_type": "markdown",
   "metadata": {},
   "source": [
    "### ' [A-Za-z]+\\.' --> regular expression 이라고 함\n",
    "* 특정한 규칙을 가진 문자열의 집합을 표현하는 데 사용하는 형식"
   ]
  },
  {
   "cell_type": "markdown",
   "metadata": {},
   "source": [
    "<table>\n",
    "    <thead>\n",
    "        <tr style=\"font-size:1.2em\">\n",
    "            <th style=\"text-align:center\">정규 표현식</th>\n",
    "            <th style=\"text-align:center\">축약 표현</th>\n",
    "            <th style=\"text-align:left\">사용 예</th>\n",
    "        </tr>\n",
    "    </thead>\n",
    "    <tbody>\n",
    "        <tr style=\"font-size:1.2em\">\n",
    "            <td style=\"text-align:center\">[0-9]</td>\n",
    "            <td style=\"text-align:center\">\\d</td>\n",
    "            <td style=\"text-align:left\">숫자를 찾음</td>\n",
    "        </tr>\n",
    "        <tr style=\"font-size:1.2em\">\n",
    "            <td style=\"text-align:center\">[^0-9]</td>\n",
    "            <td style=\"text-align:center\">\\D</td>\n",
    "            <td style=\"text-align:left\">숫자가 아닌 것을 찾음(텍스트, 특수 문자, white space(스페이스, 탭, 엔터 등등)를 찾을 때)</td>\n",
    "        </tr>\n",
    "        <tr style=\"font-size:1.2em\">\n",
    "            <td style=\"text-align:center\">[ \\t\\n\\r\\f\\v]</td>\n",
    "            <td style=\"text-align:center\">\\s</td>\n",
    "            <td style=\"text-align:left\">white space(스페이스, 탭, 엔터 등등) 문자인 것을 찾음</td>\n",
    "        </tr>\n",
    "        <tr style=\"font-size:1.2em\">\n",
    "            <td style=\"text-align:center\">[^ \\t\\n\\r\\f\\v]</td>\n",
    "            <td style=\"text-align:center\">\\S</td>\n",
    "            <td style=\"text-align:left\">white space(스페이스, 탭, 엔터 등등) 문자가 아닌 것을 찾음(텍스트, 특수 문자, 숫자를 찾을 때)</td>\n",
    "        </tr>\n",
    "        <tr style=\"font-size:1.2em\">\n",
    "            <td style=\"text-align:center\">[A-Za-z0-9]</td>\n",
    "            <td style=\"text-align:center\">\\w</td>\n",
    "            <td style=\"text-align:left\">문자, 숫자를 찾음</td>\n",
    "        </tr>\n",
    "        <tr style=\"font-size:1.2em\">\n",
    "            <td style=\"text-align:center\">[^A-Za-z0-9]</td>\n",
    "            <td style=\"text-align:center\">\\W</td>\n",
    "            <td style=\"text-align:left\">문자, 숫자가 아닌 것을 찾음</td>\n",
    "        </tr>\n",
    "    </tbody>\n",
    "</table>"
   ]
  },
  {
   "cell_type": "markdown",
   "metadata": {
    "tags": []
   },
   "source": [
    "### 예: 문자, 숫자가 아닌 데이터를 찾아서, '' 로 대체해라(삭제해라)"
   ]
  },
  {
   "cell_type": "code",
   "execution_count": 12,
   "metadata": {},
   "outputs": [
    {
     "data": {
      "text/plain": [
       "'Dave'"
      ]
     },
     "execution_count": 12,
     "metadata": {},
     "output_type": "execute_result"
    }
   ],
   "source": [
    "import re\n",
    "\n",
    "string = \"(Dave)\"\n",
    "re.sub('[^A-Za-z0-9]', '', string)"
   ]
  },
  {
   "cell_type": "code",
   "execution_count": 13,
   "metadata": {},
   "outputs": [
    {
     "data": {
      "text/plain": [
       "'Dave'"
      ]
     },
     "execution_count": 13,
     "metadata": {},
     "output_type": "execute_result"
    }
   ],
   "source": [
    "string.replace(\"(\", \"\").replace(\")\", \"\")"
   ]
  },
  {
   "cell_type": "code",
   "execution_count": null,
   "metadata": {},
   "outputs": [],
   "source": []
  },
  {
   "cell_type": "markdown",
   "metadata": {},
   "source": [
    "## 정규표현식 확인: https://regexr.com/"
   ]
  },
  {
   "cell_type": "code",
   "execution_count": null,
   "metadata": {
    "tags": []
   },
   "outputs": [],
   "source": []
  },
  {
   "cell_type": "markdown",
   "metadata": {},
   "source": [
    "### 위 정규 표현식은 일정한 규칙을 가지고 작성됨, 필요한 패턴은 직접 만들 수도 있음"
   ]
  },
  {
   "cell_type": "markdown",
   "metadata": {},
   "source": [
    "### 1. Dat(\\.)\n",
    "* Dot \\. 메타 문자는 줄바꿈 문자인 \\n를 제외한 모든 문자(한 개)를 의미함\n",
    "* 예: D.A 는 D + 모든 문자(한 개) + A 를 의미\n",
    "  - DAA, DvA, D1A"
   ]
  },
  {
   "cell_type": "markdown",
   "metadata": {},
   "source": [
    "### 정규 표현식 라이브러리 임포트하기"
   ]
  },
  {
   "cell_type": "code",
   "execution_count": 17,
   "metadata": {},
   "outputs": [],
   "source": [
    "import re"
   ]
  },
  {
   "cell_type": "markdown",
   "metadata": {
    "tags": []
   },
   "source": [
    "### 정규 표현식 패턴 만들기"
   ]
  },
  {
   "cell_type": "code",
   "execution_count": 14,
   "metadata": {},
   "outputs": [],
   "source": [
    "pattern = re.compile('D.A')"
   ]
  },
  {
   "cell_type": "markdown",
   "metadata": {},
   "source": [
    "### 패턴에 매칭되는지 여부 확인하기 (실습)"
   ]
  },
  {
   "cell_type": "code",
   "execution_count": 15,
   "metadata": {},
   "outputs": [
    {
     "data": {
      "text/plain": [
       "<re.Match object; span=(0, 3), match='DAA'>"
      ]
     },
     "execution_count": 15,
     "metadata": {},
     "output_type": "execute_result"
    }
   ],
   "source": [
    "pattern.search(\"DAA\")"
   ]
  },
  {
   "cell_type": "code",
   "execution_count": 16,
   "metadata": {},
   "outputs": [
    {
     "data": {
      "text/plain": [
       "<re.Match object; span=(0, 3), match='DlA'>"
      ]
     },
     "execution_count": 16,
     "metadata": {},
     "output_type": "execute_result"
    }
   ],
   "source": [
    "pattern.search('DlA')"
   ]
  },
  {
   "cell_type": "code",
   "execution_count": 17,
   "metadata": {},
   "outputs": [],
   "source": [
    "pattern.search('D00A')"
   ]
  },
  {
   "cell_type": "code",
   "execution_count": 18,
   "metadata": {},
   "outputs": [],
   "source": [
    "pattern.search('DA')"
   ]
  },
  {
   "cell_type": "code",
   "execution_count": 19,
   "metadata": {},
   "outputs": [],
   "source": [
    "pattern.search('d0A')"
   ]
  },
  {
   "cell_type": "code",
   "execution_count": 20,
   "metadata": {},
   "outputs": [
    {
     "data": {
      "text/plain": [
       "<re.Match object; span=(4, 7), match='DlA'>"
      ]
     },
     "execution_count": 20,
     "metadata": {},
     "output_type": "execute_result"
    }
   ],
   "source": [
    "pattern.search('d0A DlA 0111')"
   ]
  },
  {
   "cell_type": "markdown",
   "metadata": {},
   "source": [
    "### 정말 Dot . 이 들어간 패턴을 찾으려면?\n",
    "<pre>\n",
    "\\. 으로 표시하거나, [.] 으로 표시하면 됨\n",
    "</pre>"
   ]
  },
  {
   "cell_type": "code",
   "execution_count": 25,
   "metadata": {},
   "outputs": [],
   "source": [
    "# pattern = re.compile('D\\.A')\n",
    "pattern = re.compile('D[.]A')"
   ]
  },
  {
   "cell_type": "code",
   "execution_count": 26,
   "metadata": {},
   "outputs": [
    {
     "data": {
      "text/plain": [
       "<re.Match object; span=(0, 3), match='D.A'>"
      ]
     },
     "execution_count": 26,
     "metadata": {},
     "output_type": "execute_result"
    }
   ],
   "source": [
    "pattern.search('D.A')"
   ]
  },
  {
   "cell_type": "code",
   "execution_count": 27,
   "metadata": {},
   "outputs": [],
   "source": [
    "pattern.search('DDA')"
   ]
  },
  {
   "cell_type": "code",
   "execution_count": 28,
   "metadata": {},
   "outputs": [],
   "source": [
    "pattern.search('d[.]A')"
   ]
  },
  {
   "cell_type": "code",
   "execution_count": null,
   "metadata": {},
   "outputs": [],
   "source": []
  },
  {
   "cell_type": "markdown",
   "metadata": {},
   "source": [
    "### 찾고 바꾸기 (특정 패턴이 매칭되는 것을 찾아서, 다른 문자열로 바꾸기)"
   ]
  },
  {
   "cell_type": "code",
   "execution_count": 29,
   "metadata": {},
   "outputs": [],
   "source": [
    "string = \"DDA DlA DDA DA\""
   ]
  },
  {
   "cell_type": "code",
   "execution_count": 30,
   "metadata": {},
   "outputs": [
    {
     "data": {
      "text/plain": [
       "'Dave Dave Dave DA'"
      ]
     },
     "execution_count": 30,
     "metadata": {},
     "output_type": "execute_result"
    }
   ],
   "source": [
    "re.sub('D.A', 'Dave', string)"
   ]
  },
  {
   "cell_type": "markdown",
   "metadata": {},
   "source": [
    "### 2. 반복 ? , \\* , +\n",
    "* ? 는 앞 문자가 0번 또는 1번 표시되는 패턴 (없어도 되고, 한번 있어도 되는 패턴)\n",
    "* \\* 는 앞 문자가 0번 또는 그 이상 반복되는 패턴\n",
    "* \\+ 는 앞 문자가 1번 또는 그 이상 반복되는 패턴"
   ]
  },
  {
   "cell_type": "markdown",
   "metadata": {},
   "source": [
    "### ? 사용 예"
   ]
  },
  {
   "cell_type": "code",
   "execution_count": 31,
   "metadata": {},
   "outputs": [],
   "source": [
    "pattern = re.compile('D?A')"
   ]
  },
  {
   "cell_type": "code",
   "execution_count": 32,
   "metadata": {},
   "outputs": [
    {
     "data": {
      "text/plain": [
       "<re.Match object; span=(0, 1), match='A'>"
      ]
     },
     "execution_count": 32,
     "metadata": {},
     "output_type": "execute_result"
    }
   ],
   "source": [
    "pattern.search('A')"
   ]
  },
  {
   "cell_type": "code",
   "execution_count": 33,
   "metadata": {},
   "outputs": [
    {
     "data": {
      "text/plain": [
       "<re.Match object; span=(0, 2), match='DA'>"
      ]
     },
     "execution_count": 33,
     "metadata": {},
     "output_type": "execute_result"
    }
   ],
   "source": [
    "pattern.search('DA')"
   ]
  },
  {
   "cell_type": "code",
   "execution_count": 34,
   "metadata": {},
   "outputs": [
    {
     "data": {
      "text/plain": [
       "<re.Match object; span=(1, 3), match='DA'>"
      ]
     },
     "execution_count": 34,
     "metadata": {},
     "output_type": "execute_result"
    }
   ],
   "source": [
    "pattern.search('DDA')"
   ]
  },
  {
   "cell_type": "code",
   "execution_count": 35,
   "metadata": {},
   "outputs": [
    {
     "data": {
      "text/plain": [
       "<re.Match object; span=(0, 2), match='DA'>"
      ]
     },
     "execution_count": 35,
     "metadata": {},
     "output_type": "execute_result"
    }
   ],
   "source": [
    "pattern.search('DAA')"
   ]
  },
  {
   "cell_type": "code",
   "execution_count": 36,
   "metadata": {},
   "outputs": [
    {
     "data": {
      "text/plain": [
       "<re.Match object; span=(2, 3), match='A'>"
      ]
     },
     "execution_count": 36,
     "metadata": {},
     "output_type": "execute_result"
    }
   ],
   "source": [
    "pattern.search('EEA')"
   ]
  },
  {
   "cell_type": "code",
   "execution_count": 38,
   "metadata": {},
   "outputs": [
    {
     "data": {
      "text/plain": [
       "<re.Match object; span=(0, 2), match='DA'>"
      ]
     },
     "execution_count": 38,
     "metadata": {},
     "output_type": "execute_result"
    }
   ],
   "source": [
    "pattern.search('DAE')"
   ]
  },
  {
   "cell_type": "code",
   "execution_count": 39,
   "metadata": {},
   "outputs": [
    {
     "data": {
      "text/plain": [
       "<re.Match object; span=(0, 1), match='A'>"
      ]
     },
     "execution_count": 39,
     "metadata": {},
     "output_type": "execute_result"
    }
   ],
   "source": [
    "pattern.search('AAAA')"
   ]
  },
  {
   "cell_type": "markdown",
   "metadata": {},
   "source": [
    "### \\* 사용 예"
   ]
  },
  {
   "cell_type": "code",
   "execution_count": 40,
   "metadata": {
    "tags": []
   },
   "outputs": [],
   "source": [
    "pattern = re.compile('D*A')"
   ]
  },
  {
   "cell_type": "code",
   "execution_count": 41,
   "metadata": {},
   "outputs": [
    {
     "data": {
      "text/plain": [
       "<re.Match object; span=(0, 1), match='A'>"
      ]
     },
     "execution_count": 41,
     "metadata": {},
     "output_type": "execute_result"
    }
   ],
   "source": [
    "pattern.search('A')"
   ]
  },
  {
   "cell_type": "code",
   "execution_count": 42,
   "metadata": {},
   "outputs": [
    {
     "data": {
      "text/plain": [
       "<re.Match object; span=(0, 2), match='DA'>"
      ]
     },
     "execution_count": 42,
     "metadata": {},
     "output_type": "execute_result"
    }
   ],
   "source": [
    "pattern.search('DA')"
   ]
  },
  {
   "cell_type": "code",
   "execution_count": 43,
   "metadata": {},
   "outputs": [
    {
     "data": {
      "text/plain": [
       "<re.Match object; span=(0, 14), match='DDDDDDDDDDDDDA'>"
      ]
     },
     "execution_count": 43,
     "metadata": {},
     "output_type": "execute_result"
    }
   ],
   "source": [
    "pattern.search('DDDDDDDDDDDDDA')"
   ]
  },
  {
   "cell_type": "code",
   "execution_count": 44,
   "metadata": {},
   "outputs": [],
   "source": [
    "pattern = re.compile('AD*A')"
   ]
  },
  {
   "cell_type": "code",
   "execution_count": 45,
   "metadata": {},
   "outputs": [
    {
     "data": {
      "text/plain": [
       "<re.Match object; span=(0, 13), match='ADDDDDDDDDDDA'>"
      ]
     },
     "execution_count": 45,
     "metadata": {},
     "output_type": "execute_result"
    }
   ],
   "source": [
    "pattern.search('ADDDDDDDDDDDA')"
   ]
  },
  {
   "cell_type": "code",
   "execution_count": 46,
   "metadata": {},
   "outputs": [],
   "source": [
    "pattern.search('ADDDDDEDDA')"
   ]
  },
  {
   "cell_type": "code",
   "execution_count": 47,
   "metadata": {},
   "outputs": [
    {
     "data": {
      "text/plain": [
       "<re.Match object; span=(0, 2), match='AA'>"
      ]
     },
     "execution_count": 47,
     "metadata": {},
     "output_type": "execute_result"
    }
   ],
   "source": [
    "pattern.search('AA')"
   ]
  },
  {
   "cell_type": "markdown",
   "metadata": {},
   "source": [
    "* 참고: https://regexr.com/"
   ]
  },
  {
   "cell_type": "markdown",
   "metadata": {
    "tags": []
   },
   "source": [
    "### + 사용 예"
   ]
  },
  {
   "cell_type": "code",
   "execution_count": 48,
   "metadata": {},
   "outputs": [],
   "source": [
    "pattern = re.compile('D+A')"
   ]
  },
  {
   "cell_type": "code",
   "execution_count": 49,
   "metadata": {},
   "outputs": [],
   "source": [
    "pattern.search('A')"
   ]
  },
  {
   "cell_type": "code",
   "execution_count": 50,
   "metadata": {},
   "outputs": [
    {
     "data": {
      "text/plain": [
       "<re.Match object; span=(0, 2), match='DA'>"
      ]
     },
     "execution_count": 50,
     "metadata": {},
     "output_type": "execute_result"
    }
   ],
   "source": [
    "pattern.search('DA')"
   ]
  },
  {
   "cell_type": "code",
   "execution_count": 51,
   "metadata": {},
   "outputs": [
    {
     "data": {
      "text/plain": [
       "<re.Match object; span=(0, 10), match='DDDDDDDDDA'>"
      ]
     },
     "execution_count": 51,
     "metadata": {},
     "output_type": "execute_result"
    }
   ],
   "source": [
    "pattern.search('DDDDDDDDDA')"
   ]
  },
  {
   "cell_type": "code",
   "execution_count": 52,
   "metadata": {},
   "outputs": [
    {
     "data": {
      "text/plain": [
       "<re.Match object; span=(0, 4), match='DDDA'>"
      ]
     },
     "execution_count": 52,
     "metadata": {},
     "output_type": "execute_result"
    }
   ],
   "source": [
    "pattern.search('DDDADDDADDA')"
   ]
  },
  {
   "cell_type": "code",
   "execution_count": null,
   "metadata": {},
   "outputs": [],
   "source": []
  },
  {
   "cell_type": "markdown",
   "metadata": {},
   "source": [
    "### 또다른 반복 표현: {n}, {m,n}\n",
    "* {n} : 앞 문자가 n 번 반복되는 패턴\n",
    "* {m, n} : 앞 문자가 m 번 반복되는 패턴부터 n 번 반복되는 패턴까지"
   ]
  },
  {
   "cell_type": "markdown",
   "metadata": {},
   "source": [
    "### {n} 사용 예"
   ]
  },
  {
   "cell_type": "code",
   "execution_count": 54,
   "metadata": {},
   "outputs": [],
   "source": [
    "pattern = re.compile('AD{2}A')    # 'ADDA'"
   ]
  },
  {
   "cell_type": "code",
   "execution_count": 55,
   "metadata": {},
   "outputs": [],
   "source": [
    "pattern.search('ADA')"
   ]
  },
  {
   "cell_type": "code",
   "execution_count": 56,
   "metadata": {},
   "outputs": [
    {
     "data": {
      "text/plain": [
       "<re.Match object; span=(0, 4), match='ADDA'>"
      ]
     },
     "execution_count": 56,
     "metadata": {},
     "output_type": "execute_result"
    }
   ],
   "source": [
    "pattern.search('ADDA')"
   ]
  },
  {
   "cell_type": "code",
   "execution_count": 57,
   "metadata": {},
   "outputs": [],
   "source": [
    "pattern.search('ADDDA')"
   ]
  },
  {
   "cell_type": "markdown",
   "metadata": {},
   "source": [
    "### {m,n} 사용 예"
   ]
  },
  {
   "cell_type": "code",
   "execution_count": 58,
   "metadata": {},
   "outputs": [],
   "source": [
    "pattern = re.compile('AD{2,3}A')    # 'ADDA' or 'ADDDA'"
   ]
  },
  {
   "cell_type": "code",
   "execution_count": 59,
   "metadata": {},
   "outputs": [],
   "source": [
    "pattern.search('ADA')"
   ]
  },
  {
   "cell_type": "code",
   "execution_count": 60,
   "metadata": {},
   "outputs": [
    {
     "data": {
      "text/plain": [
       "<re.Match object; span=(0, 4), match='ADDA'>"
      ]
     },
     "execution_count": 60,
     "metadata": {},
     "output_type": "execute_result"
    }
   ],
   "source": [
    "pattern.search('ADDA')"
   ]
  },
  {
   "cell_type": "code",
   "execution_count": 61,
   "metadata": {},
   "outputs": [
    {
     "data": {
      "text/plain": [
       "<re.Match object; span=(0, 5), match='ADDDA'>"
      ]
     },
     "execution_count": 61,
     "metadata": {},
     "output_type": "execute_result"
    }
   ],
   "source": [
    "pattern.search('ADDDA')"
   ]
  },
  {
   "cell_type": "code",
   "execution_count": 62,
   "metadata": {},
   "outputs": [],
   "source": [
    "pattern.search('ADDDDA')"
   ]
  },
  {
   "cell_type": "code",
   "execution_count": null,
   "metadata": {},
   "outputs": [],
   "source": []
  },
  {
   "cell_type": "markdown",
   "metadata": {},
   "source": [
    "### 3. [ ] 괄호 : 괄호 안에 들어가는 문자가 들어 있는 패턴\n",
    "* 예:  [abc] 는 a, b, c 중 하나가 들어 있는 패턴(OR)을 말함"
   ]
  },
  {
   "cell_type": "code",
   "execution_count": 63,
   "metadata": {},
   "outputs": [],
   "source": [
    "pattern = re.compile('[abcdefgABCDEFG]')"
   ]
  },
  {
   "cell_type": "code",
   "execution_count": 64,
   "metadata": {},
   "outputs": [
    {
     "data": {
      "text/plain": [
       "<re.Match object; span=(0, 1), match='a'>"
      ]
     },
     "execution_count": 64,
     "metadata": {},
     "output_type": "execute_result"
    }
   ],
   "source": [
    "pattern.search('a1234')"
   ]
  },
  {
   "cell_type": "code",
   "execution_count": 65,
   "metadata": {},
   "outputs": [],
   "source": [
    "pattern.search('z1234')"
   ]
  },
  {
   "cell_type": "markdown",
   "metadata": {},
   "source": [
    "### 하이픈(-)을 이용하면 알파벳 전체를 나타낼 수 있음\n",
    "* 예:  [a-c] 는 a, b, c 중 하나가 들어 있는 패턴을 말함"
   ]
  },
  {
   "cell_type": "code",
   "execution_count": 66,
   "metadata": {},
   "outputs": [],
   "source": [
    "pattern = re.compile('[a-z]')      # 소문자"
   ]
  },
  {
   "cell_type": "code",
   "execution_count": 67,
   "metadata": {},
   "outputs": [
    {
     "data": {
      "text/plain": [
       "<re.Match object; span=(0, 1), match='k'>"
      ]
     },
     "execution_count": 67,
     "metadata": {},
     "output_type": "execute_result"
    }
   ],
   "source": [
    "pattern.search('k1234')"
   ]
  },
  {
   "cell_type": "code",
   "execution_count": 68,
   "metadata": {},
   "outputs": [
    {
     "data": {
      "text/plain": [
       "<re.Match object; span=(0, 1), match='z'>"
      ]
     },
     "execution_count": 68,
     "metadata": {},
     "output_type": "execute_result"
    }
   ],
   "source": [
    "pattern.search('z1234')"
   ]
  },
  {
   "cell_type": "markdown",
   "metadata": {},
   "source": [
    "### [a-zA-Z] 으로 표기하면 대소문자를 모두 포함해서 알파벳 전체를 나타낼 수 있음"
   ]
  },
  {
   "cell_type": "code",
   "execution_count": 69,
   "metadata": {},
   "outputs": [],
   "source": [
    "pattern = re.compile('[A-Za-z]')"
   ]
  },
  {
   "cell_type": "code",
   "execution_count": 70,
   "metadata": {},
   "outputs": [
    {
     "data": {
      "text/plain": [
       "<re.Match object; span=(0, 1), match='d'>"
      ]
     },
     "execution_count": 70,
     "metadata": {},
     "output_type": "execute_result"
    }
   ],
   "source": [
    "pattern.search('dz1234')"
   ]
  },
  {
   "cell_type": "markdown",
   "metadata": {},
   "source": [
    "### [a-zA-Z0-9] 로 표기하면 대소문자를 모두 포함해서 알파벳 전체와 함께 숫자 전체도 나타낼 수 있음"
   ]
  },
  {
   "cell_type": "code",
   "execution_count": 71,
   "metadata": {},
   "outputs": [],
   "source": [
    "pattern = re.compile('[a-zA-Z0-9]')"
   ]
  },
  {
   "cell_type": "code",
   "execution_count": 72,
   "metadata": {},
   "outputs": [
    {
     "data": {
      "text/plain": [
       "<re.Match object; span=(0, 1), match='1'>"
      ]
     },
     "execution_count": 72,
     "metadata": {},
     "output_type": "execute_result"
    }
   ],
   "source": [
    "pattern.search('1234----')"
   ]
  },
  {
   "cell_type": "code",
   "execution_count": 73,
   "metadata": {},
   "outputs": [],
   "source": [
    "pattern.search('------ !@#$%^&*()_+------')"
   ]
  },
  {
   "cell_type": "markdown",
   "metadata": {},
   "source": [
    "### [ ] 괄호 안에서 [ 바로 뒤에 ^ 을 쓰면 그 뒤에 오는 문자가 아닌 패턴을 찾음\n",
    "* 문자를 결국 알파벳, 숫자, 특수문자, whitespace(스페이스, 탭, 엔터등) 로 분류할 수 있으므로\n",
    "* [^ \\t\\n\\r\\f\\v] 는 이중에서 whitespace 가 아닌 알파벳, 숫자, 특수문자를 지칭함"
   ]
  },
  {
   "cell_type": "code",
   "execution_count": 74,
   "metadata": {},
   "outputs": [],
   "source": [
    "pattern = re.compile('[^a-zA-Z0-0]')"
   ]
  },
  {
   "cell_type": "code",
   "execution_count": 75,
   "metadata": {},
   "outputs": [
    {
     "data": {
      "text/plain": [
       "<re.Match object; span=(0, 1), match='1'>"
      ]
     },
     "execution_count": 75,
     "metadata": {},
     "output_type": "execute_result"
    }
   ],
   "source": [
    "pattern.search('1234----')"
   ]
  },
  {
   "cell_type": "code",
   "execution_count": 76,
   "metadata": {},
   "outputs": [
    {
     "data": {
      "text/plain": [
       "<re.Match object; span=(0, 1), match='-'>"
      ]
     },
     "execution_count": 76,
     "metadata": {},
     "output_type": "execute_result"
    }
   ],
   "source": [
    "pattern.search('------ !@#$%^&*()_+------')"
   ]
  },
  {
   "cell_type": "code",
   "execution_count": 81,
   "metadata": {},
   "outputs": [],
   "source": [
    "pattern = re.compile('[^ \\t\\n\\r\\f\\v]')"
   ]
  },
  {
   "cell_type": "code",
   "execution_count": 82,
   "metadata": {},
   "outputs": [
    {
     "data": {
      "text/plain": [
       "<re.Match object; span=(0, 1), match='-'>"
      ]
     },
     "execution_count": 82,
     "metadata": {},
     "output_type": "execute_result"
    }
   ],
   "source": [
    "pattern.search('-')"
   ]
  },
  {
   "cell_type": "code",
   "execution_count": 83,
   "metadata": {},
   "outputs": [],
   "source": [
    "pattern.search('   ')"
   ]
  },
  {
   "cell_type": "markdown",
   "metadata": {},
   "source": [
    "### 그러면 한글만? --> [가-힣]"
   ]
  },
  {
   "cell_type": "code",
   "execution_count": 84,
   "metadata": {},
   "outputs": [],
   "source": [
    "pattern = re.compile('[가-핳]')"
   ]
  },
  {
   "cell_type": "code",
   "execution_count": 85,
   "metadata": {},
   "outputs": [
    {
     "data": {
      "text/plain": [
       "<re.Match object; span=(7, 8), match='가'>"
      ]
     },
     "execution_count": 85,
     "metadata": {},
     "output_type": "execute_result"
    }
   ],
   "source": [
    "pattern.search('ab-123-가나다-###')"
   ]
  },
  {
   "cell_type": "code",
   "execution_count": 86,
   "metadata": {},
   "outputs": [],
   "source": [
    "pattern.search('@nate.com')"
   ]
  },
  {
   "cell_type": "code",
   "execution_count": null,
   "metadata": {},
   "outputs": [],
   "source": []
  },
  {
   "cell_type": "markdown",
   "metadata": {},
   "source": [
    "### 4. 조합해서 써보자"
   ]
  },
  {
   "cell_type": "code",
   "execution_count": 87,
   "metadata": {},
   "outputs": [],
   "source": [
    "import re\n",
    "\n",
    "pattern = re.compile('[a-zA-Z]+')"
   ]
  },
  {
   "cell_type": "code",
   "execution_count": 89,
   "metadata": {},
   "outputs": [
    {
     "name": "stdout",
     "output_type": "stream",
     "text": [
      "<re.Match object; span=(0, 4), match='Dave'>\n"
     ]
    }
   ],
   "source": [
    "matched = pattern.search('Dave')\n",
    "print(matched)"
   ]
  },
  {
   "cell_type": "code",
   "execution_count": null,
   "metadata": {},
   "outputs": [],
   "source": []
  },
  {
   "cell_type": "markdown",
   "metadata": {},
   "source": [
    "### 5. 정규 표현식 라이브러리 함수 사용법"
   ]
  },
  {
   "cell_type": "markdown",
   "metadata": {},
   "source": [
    "### match 와 search 함수\n",
    "* match : 문자열 처음부터 정규식과 매칭되는 패턴을 찾아서 리턴\n",
    "* search : 문자열 전체를 검색해서 정규식과 매칭되는 패턴을 찾아서 리턴"
   ]
  },
  {
   "cell_type": "code",
   "execution_count": 90,
   "metadata": {},
   "outputs": [],
   "source": [
    "import re\n",
    "\n",
    "pattern = re.compile('[a-z]+')"
   ]
  },
  {
   "cell_type": "code",
   "execution_count": 94,
   "metadata": {},
   "outputs": [
    {
     "name": "stdout",
     "output_type": "stream",
     "text": [
      "None\n"
     ]
    }
   ],
   "source": [
    "matched = pattern.match('Dave')\n",
    "print(matched)"
   ]
  },
  {
   "cell_type": "code",
   "execution_count": 95,
   "metadata": {},
   "outputs": [
    {
     "name": "stdout",
     "output_type": "stream",
     "text": [
      "<re.Match object; span=(1, 4), match='ave'>\n"
     ]
    }
   ],
   "source": [
    "searched = pattern.search('Dave')\n",
    "print(searched)"
   ]
  },
  {
   "cell_type": "markdown",
   "metadata": {},
   "source": [
    "### findall 함수: 정규표현식과 매칭되는 모든 문자열을 리스트 객체로 리턴함"
   ]
  },
  {
   "cell_type": "code",
   "execution_count": 96,
   "metadata": {},
   "outputs": [],
   "source": [
    "import re\n",
    "\n",
    "pattern = re.compile('[a-z]+')"
   ]
  },
  {
   "cell_type": "code",
   "execution_count": 97,
   "metadata": {},
   "outputs": [
    {
     "name": "stdout",
     "output_type": "stream",
     "text": [
      "['ame', 'of', 'ife', 'in', 'ython']\n"
     ]
    }
   ],
   "source": [
    "findalled = pattern.findall('Game of Life in Python')\n",
    "print(findalled)"
   ]
  },
  {
   "cell_type": "code",
   "execution_count": 99,
   "metadata": {},
   "outputs": [
    {
     "name": "stdout",
     "output_type": "stream",
     "text": [
      "['Game', 'of', 'Life', 'in', 'Python']\n"
     ]
    }
   ],
   "source": [
    "pattern = re.compile('[a-zA-z]+')\n",
    "findalled = pattern.findall('Game of Life in Python')\n",
    "print(findalled)"
   ]
  },
  {
   "cell_type": "markdown",
   "metadata": {},
   "source": [
    "### findall 함수를 사용해서 정규표현식에 해당되는 문자열이 있는지 없는지 확인하기"
   ]
  },
  {
   "cell_type": "code",
   "execution_count": 102,
   "metadata": {},
   "outputs": [
    {
     "name": "stdout",
     "output_type": "stream",
     "text": [
      "정규 표션식에 맞는 문장열 부재\n"
     ]
    }
   ],
   "source": [
    "import re\n",
    "\n",
    "pattern = re.compile('[a-z]+')\n",
    "findalled = pattern.findall('GAME')\n",
    "\n",
    "if len(findalled) > 0 :\n",
    "    print(\"정규 표현식에 맞는 문자열 존재\")\n",
    "else:\n",
    "    print(\"정규 표션식에 맞는 문자열 부재\")"
   ]
  },
  {
   "cell_type": "markdown",
   "metadata": {},
   "source": [
    "### split 함수: 찾은 정규표현식 패턴 문자열을 기준으로 문자열을 분리"
   ]
  },
  {
   "cell_type": "code",
   "execution_count": 103,
   "metadata": {},
   "outputs": [
    {
     "name": "stdout",
     "output_type": "stream",
     "text": [
      "['python', 'java']\n"
     ]
    }
   ],
   "source": [
    "import re\n",
    "\n",
    "pattern = re.compile(':')\n",
    "splited = pattern.split('python:java')\n",
    "print(splited)"
   ]
  },
  {
   "cell_type": "markdown",
   "metadata": {},
   "source": [
    "<div class=\"alert alert-block alert-success\">\n",
    "<strong><font color=\"blue\" size=\"4em\">프로그래밍 연습</font></strong><br>\n",
    "' VS ' 로 문자열 앞뒤를 분리해보기 \n",
    "</div>"
   ]
  },
  {
   "cell_type": "code",
   "execution_count": 105,
   "metadata": {},
   "outputs": [
    {
     "name": "stdout",
     "output_type": "stream",
     "text": [
      "['python', 'java']\n"
     ]
    }
   ],
   "source": [
    "import re\n",
    "pattern2 = re.compile(' [A-Z]{2} ')\n",
    "splited = pattern2.split('python VS java')\n",
    "print (splited)"
   ]
  },
  {
   "cell_type": "markdown",
   "metadata": {},
   "source": [
    "### sub 함수: 찾은 정규표현식 패턴 문자열을 다른 문자열로 변경"
   ]
  },
  {
   "cell_type": "code",
   "execution_count": 106,
   "metadata": {},
   "outputs": [],
   "source": [
    "import re\n",
    "pattern2 = re.compile('-')\n",
    "subed = pattern2.sub('*', '801210-1011323')  # sub(바꿀문자열, 본래문자열)"
   ]
  },
  {
   "cell_type": "code",
   "execution_count": 107,
   "metadata": {},
   "outputs": [
    {
     "name": "stdout",
     "output_type": "stream",
     "text": [
      "801210*1011323\n"
     ]
    }
   ],
   "source": [
    "print (subed)"
   ]
  },
  {
   "cell_type": "code",
   "execution_count": 108,
   "metadata": {},
   "outputs": [],
   "source": [
    "subed = re.sub('-', '*', '801210-1011323')  # sub(정규표현식, 바꿀문자열, 본래문자열)"
   ]
  },
  {
   "cell_type": "code",
   "execution_count": 109,
   "metadata": {},
   "outputs": [
    {
     "name": "stdout",
     "output_type": "stream",
     "text": [
      "801210*1011323\n"
     ]
    }
   ],
   "source": [
    "print (subed)"
   ]
  },
  {
   "cell_type": "code",
   "execution_count": null,
   "metadata": {
    "tags": []
   },
   "outputs": [],
   "source": []
  },
  {
   "cell_type": "markdown",
   "metadata": {},
   "source": [
    "<div class=\"alert alert-block alert-success\">\n",
    "<strong><font color=\"blue\" size=\"4em\">도전 과제</font></strong><br>\n",
    "주민번호 뒷자리를 * 로 바꿔서 가려보기<br>\n",
    "re.sub('-------', '------', each_row[1].value)   <--- 정규표현식, 바꿀문자열 을 넣어봅니다.\n",
    "</div>\n",
    "<pre>\n",
    "import openpyxl\n",
    "work_book = openpyxl.load_workbook('data_kr.xlsx')\n",
    "work_sheet = work_book.active\n",
    "for each_row in work_sheet.rows:\n",
    "    print(re.sub('-------', '------', each_row[1].value))\n",
    "    \n",
    "work_book.close()\n",
    "</pre>"
   ]
  },
  {
   "cell_type": "code",
   "execution_count": 111,
   "metadata": {
    "scrolled": true
   },
   "outputs": [
    {
     "name": "stdout",
     "output_type": "stream",
     "text": [
      "주민등록번호\n",
      "800215-*******\n",
      "821030-*******\n",
      "841230-*******\n",
      "790903-*******\n",
      "800125-*******\n",
      "820612-*******\n"
     ]
    }
   ],
   "source": [
    "import openpyxl\n",
    "work_book = openpyxl.load_workbook('data_kr.xlsx')\n",
    "work_sheet = work_book.active\n",
    "for each_row in work_sheet.rows:\n",
    "    print(re.sub('-[0-9]{7}', '-*******', each_row[1].value))\n",
    "\n",
    "work_book.close()"
   ]
  },
  {
   "cell_type": "code",
   "execution_count": null,
   "metadata": {},
   "outputs": [],
   "source": []
  }
 ],
 "metadata": {
  "kernelspec": {
   "display_name": "Python 3 (ipykernel)",
   "language": "python",
   "name": "python3"
  },
  "language_info": {
   "codemirror_mode": {
    "name": "ipython",
    "version": 3
   },
   "file_extension": ".py",
   "mimetype": "text/x-python",
   "name": "python",
   "nbconvert_exporter": "python",
   "pygments_lexer": "ipython3",
   "version": "3.9.7"
  },
  "nbTranslate": {
   "displayLangs": [
    "*"
   ],
   "hotkey": "alt-t",
   "langInMainMenu": true,
   "sourceLang": "en",
   "targetLang": "fr",
   "useGoogleTranslate": true
  }
 },
 "nbformat": 4,
 "nbformat_minor": 4
}
