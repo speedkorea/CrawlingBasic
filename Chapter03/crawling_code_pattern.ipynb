{
 "cells": [
  {
   "cell_type": "code",
   "execution_count": 3,
   "id": "35257136-ee79-4f58-92b4-e4de28d28ec5",
   "metadata": {},
   "outputs": [
    {
     "name": "stdout",
     "output_type": "stream",
     "text": [
      "잔금대출에도 DTI 규제 적용 검토\n"
     ]
    }
   ],
   "source": [
    "import requests\n",
    "from bs4 import BeautifulSoup\n",
    "\n",
    "url = \"http://v.media.daum.net/v/20170615203441266\"\n",
    "res = requests.get(url)\n",
    "soup = BeautifulSoup(res.content, 'html.parser')\n",
    "mydata = soup.find(\"title\")\n",
    "print(mydata.get_text())"
   ]
  },
  {
   "cell_type": "markdown",
   "id": "bbb448d6-0bf7-43dd-9be0-22a9cdf60922",
   "metadata": {},
   "source": [
    "### Import Library\n",
    ">- requests : 웹페이지를 가져오는 라이브러리  \n",
    ">- bs4 : 웹페이지 분석(크롤링) 라이브러리"
   ]
  },
  {
   "cell_type": "code",
   "execution_count": 4,
   "id": "960cdbb5-6083-453e-b730-e4b3602662dc",
   "metadata": {},
   "outputs": [],
   "source": [
    "import requests\n",
    "from bs4 import BeautifulSoup"
   ]
  },
  {
   "cell_type": "markdown",
   "id": "5709c3b2-744e-4139-9a91-8cf90ecc7487",
   "metadata": {},
   "source": [
    "### Load web page\n",
    ">- res.content 확인"
   ]
  },
  {
   "cell_type": "code",
   "execution_count": 8,
   "id": "fc7ea316-753d-4612-8499-b8125dfa9db4",
   "metadata": {},
   "outputs": [],
   "source": [
    "url = \"http://v.media.daum.net/v/20170615203441266\"\n",
    "res = requests.get(url)\n",
    "# res.content"
   ]
  },
  {
   "cell_type": "markdown",
   "id": "6401d93a-0832-4e07-a450-1e2aa14cf745",
   "metadata": {},
   "source": [
    "### Parsing web page\n",
    ">- Parsing: 문자열의 의미를 분석. BeautifulSopu 라이브러 사용"
   ]
  },
  {
   "cell_type": "code",
   "execution_count": 11,
   "id": "d81d596e-5f76-4460-abe1-bce2eabedfe3",
   "metadata": {},
   "outputs": [],
   "source": [
    "soup = BeautifulSoup(res.content, 'html.parser')\n",
    "# soup"
   ]
  },
  {
   "cell_type": "markdown",
   "id": "63f9f72b-74b2-4f39-b1b3-e9b624d7b492",
   "metadata": {},
   "source": [
    "### Extract data\n",
    ">- soup.fint() 함수로 원하는 html tag를 검색\n",
    ">- (변수).get_text() 함수로 찾은 데이터를 추출"
   ]
  },
  {
   "cell_type": "code",
   "execution_count": 12,
   "id": "0932f5ac-cff6-4163-83a0-22525bc209e9",
   "metadata": {},
   "outputs": [
    {
     "name": "stdout",
     "output_type": "stream",
     "text": [
      "잔금대출에도 DTI 규제 적용 검토\n"
     ]
    }
   ],
   "source": [
    "mydata = soup.find(\"h3\")\n",
    "print(mydata.get_text())"
   ]
  },
  {
   "cell_type": "markdown",
   "id": "e01785ed-6933-4bfa-af55-f55b47ee210c",
   "metadata": {},
   "source": [
    "### Understanding HTML"
   ]
  },
  {
   "cell_type": "code",
   "execution_count": 15,
   "id": "51922eb1-6f42-43d8-8d15-020d060efd72",
   "metadata": {},
   "outputs": [],
   "source": [
    "html = \"\"\"\n",
    "<html>\n",
    "    <head>\n",
    "    </head>\n",
    "    <body>\n",
    "        <h1 id='title'>[1] 크롤링이란?</h1>\n",
    "        <p class='cssstyle'>웹페이지에서 필요한 데이터를 추축하는 것</p>\n",
    "        <p id='body' align='center'>파이썬을 중심으로 당향한 웨크롤링 기술 발달</p>\n",
    "    </body>\n",
    "</html>\n",
    "\"\"\""
   ]
  },
  {
   "cell_type": "code",
   "execution_count": 22,
   "id": "5ce99335-3b60-4c2d-8659-327058f93b82",
   "metadata": {},
   "outputs": [
    {
     "name": "stdout",
     "output_type": "stream",
     "text": [
      "웹페이지에서 필요한 데이터를 추축하는 것\n"
     ]
    }
   ],
   "source": [
    "from bs4 import BeautifulSoup\n",
    "\n",
    "soup = BeautifulSoup(html, \"html.parser\")\n",
    "data = soup.find('p')\n",
    "# print(data)\n",
    "print(data.string)\n",
    "# print(data.get_text())"
   ]
  },
  {
   "cell_type": "markdown",
   "id": "5f23f007-5643-4777-8580-0bb33c5cff52",
   "metadata": {},
   "source": [
    "#### find()"
   ]
  },
  {
   "cell_type": "code",
   "execution_count": 29,
   "id": "dde2e4f3-09ab-45c0-a12b-f92f86ccc023",
   "metadata": {},
   "outputs": [
    {
     "name": "stdout",
     "output_type": "stream",
     "text": [
      "웹페이지에서 필요한 데이터를 추축하는 것\n"
     ]
    }
   ],
   "source": [
    "# data = soup.find('p', class_='cssstyle')\n",
    "data = soup.find('p', 'cssstyle')\n",
    "# data = soup.find('p', attrs={'class':'cssstyle'})\n",
    "print(data.string)"
   ]
  },
  {
   "cell_type": "code",
   "execution_count": 30,
   "id": "b5314f50-7d32-4ed6-9e6e-e53224d031da",
   "metadata": {},
   "outputs": [
    {
     "name": "stdout",
     "output_type": "stream",
     "text": [
      "파이썬을 중심으로 당향한 웨크롤링 기술 발달\n"
     ]
    }
   ],
   "source": [
    "data = soup.find(id='body')\n",
    "# data = soup.find('p', attrs={'id':'body', 'align':'center'})\n",
    "print(data.string)"
   ]
  },
  {
   "cell_type": "markdown",
   "id": "1504a1db-b0ec-4312-aea1-97e5837cbe0c",
   "metadata": {},
   "source": [
    "#### find_all() "
   ]
  },
  {
   "cell_type": "code",
   "execution_count": 33,
   "id": "1a00ef9c-d540-4f73-991d-61534ed28607",
   "metadata": {},
   "outputs": [
    {
     "name": "stdout",
     "output_type": "stream",
     "text": [
      "웹페이지에서 필요한 데이터를 추축하는 것\n",
      "파이썬을 중심으로 당향한 웨크롤링 기술 발달\n"
     ]
    }
   ],
   "source": [
    "data = soup.find_all('p')\n",
    "\n",
    "for item in data:\n",
    "    print(item.string)"
   ]
  },
  {
   "cell_type": "markdown",
   "id": "2e11236e-5e7a-4199-8636-cfb7ca241b86",
   "metadata": {},
   "source": [
    "### Understanding CSS"
   ]
  },
  {
   "cell_type": "code",
   "execution_count": 34,
   "id": "d471a457-27ff-4a26-97ed-3b5eaf6a7b76",
   "metadata": {},
   "outputs": [],
   "source": [
    "import requests\n",
    "from bs4 import BeautifulSoup\n",
    "\n",
    "url = \"http://v.media.daum.net/v/20170615203441266\"\n",
    "res = requests.get(url)\n",
    "soup = BeautifulSoup(res.content, 'html.parser')"
   ]
  },
  {
   "cell_type": "code",
   "execution_count": 37,
   "id": "a4d171ad-2499-4c8d-b98a-5ba22eb9114c",
   "metadata": {},
   "outputs": [
    {
     "name": "stdout",
     "output_type": "stream",
     "text": [
      "잔금대출에도 DTI 규제 적용 검토\n"
     ]
    }
   ],
   "source": [
    "mydata = soup.find('h3')\n",
    "print(mydata.string)"
   ]
  },
  {
   "cell_type": "code",
   "execution_count": 39,
   "id": "7a5ae2bc-a6bb-4f5d-ad50-7f76e1e3cc70",
   "metadata": {},
   "outputs": [
    {
     "name": "stdout",
     "output_type": "stream",
     "text": [
      "잔금대출에도 DTI 규제 적용 검토\n"
     ]
    }
   ],
   "source": [
    "mydata = soup.find('h3', class_='tit_view')\n",
    "# mydata = soup.find('h3', 'tit_view')\n",
    "print(mydata.string)"
   ]
  },
  {
   "cell_type": "code",
   "execution_count": 44,
   "id": "d73559e0-797f-4984-ba07-72ca0a5bba5b",
   "metadata": {},
   "outputs": [
    {
     "name": "stdout",
     "output_type": "stream",
     "text": [
      "김동욱\n",
      "입력 2017. 06. 15. 20:34\n",
      "수정 2017. 06. 15. 21:31\n"
     ]
    }
   ],
   "source": [
    "mydata = soup.find_all('span', 'txt_info')\n",
    "\n",
    "for item in mydata:\n",
    "    print(item.get_text())\n",
    "    # print(item.string)"
   ]
  },
  {
   "cell_type": "code",
   "execution_count": 45,
   "id": "1822edf5-a0d0-4712-b740-6f3122ac2ab2",
   "metadata": {},
   "outputs": [
    {
     "name": "stdout",
     "output_type": "stream",
     "text": [
      "\n",
      "금융당국이 급증하는 가계부채 증가세를 막기 위해 아파트 잔금대출에도 소득을 따져 대출한도를 정하는 총부채상환비율(DTI)을 적용하는 방안을 유력하게 검토하고 있다.\n",
      "지금은 집값을 기준으로 대출한도를 매기는 주택담보인정비율(LTV) 규제만 적용돼 소득이 없어도 집값의 70%를 빌려 잔금을 치르는 게 가능하다.\n",
      "앞으로 잔금대출에 DTI가 적용되면 소득이 없는 사람은 집값의 70% 대출 받는 게 어려워진다. 기사 제목과 주요 문장을 기반으로 자동요약한 결과입니다. 전체 맥락을 이해하기 위해서는 본문 보기를 권장합니다.\n",
      "\n"
     ]
    }
   ],
   "source": [
    "mydata = soup.find('div', 'layer_util layer_summary')\n",
    "print(mydata.get_text())"
   ]
  },
  {
   "cell_type": "markdown",
   "id": "37e6151e-9582-4e89-b548-97cb7491c9a6",
   "metadata": {},
   "source": [
    "### Crawling Tips"
   ]
  },
  {
   "cell_type": "code",
   "execution_count": 46,
   "id": "239459d0-9c39-470d-a33b-3f45edd0737c",
   "metadata": {},
   "outputs": [],
   "source": [
    "import requests\n",
    "from bs4 import BeautifulSoup\n",
    "res = requests.get('https://davelee-fun.github.io/blog/crawl_test')\n",
    "soup = BeautifulSoup(res.content, 'html.parser')"
   ]
  },
  {
   "cell_type": "code",
   "execution_count": 47,
   "id": "618022f0-4b49-455d-961f-21a19ce70075",
   "metadata": {},
   "outputs": [
    {
     "name": "stdout",
     "output_type": "stream",
     "text": [
      "(왕초보) - 클래스 소개\n",
      "(왕초보) - 블로그 개발 필요한 준비물 준비하기\n",
      "(왕초보) - Github pages 설정해서 블로그 첫 페이지 만들어보기\n",
      "(왕초보) - 초간단 페이지 만들어보기\n",
      "(왕초보) - 이쁘게 테마 적용해보기\n",
      "(왕초보) - 마크다운 기초 이해하고, 실제 나만의 블로그 페이지 만들기\n",
      "(왕초보) - 다양한 마크다운 기법 익혀보며, 나만의 블로그 페이지 꾸며보기\n",
      "(초급) - 강사가 실제 사용하는 자동 프로그램 소개 [2]\n",
      "(초급) - 필요한 프로그램 설치 시연 [5]\n",
      "(초급) - 데이터를 엑셀 파일로 만들기 [9]\n",
      "(초급) -     엑셀 파일 이쁘게! 이쁘게! [8]\n",
      "(초급) -     나대신 주기적으로 파이썬 프로그램 실행하기 [7]\n",
      "(초급) - 파이썬으로 슬랙(slack) 메신저에 글쓰기 [40]\n",
      "(초급) - 웹사이트 변경사항 주기적으로 체크해서, 메신저로 알람주기 [12]\n",
      "(초급) - 네이버 API 사용해서, 블로그에 글쓰기 [42]\n",
      "(중급) - 자동으로 쿠팡파트너스 API 로 가져온 상품 정보, 네이버 블로그/트위터에 홍보하기 [412]\n"
     ]
    }
   ],
   "source": [
    "titles = soup.find_all('li', 'course')\n",
    "for title in titles:\n",
    "    print(title.get_text())"
   ]
  },
  {
   "cell_type": "code",
   "execution_count": 51,
   "id": "304a4ea3-a2ee-4f47-b0af-49c36d943585",
   "metadata": {},
   "outputs": [
    {
     "name": "stdout",
     "output_type": "stream",
     "text": [
      "(초급) - 강사가 실제 사용하는 자동 프로그램 소개 [2]\n",
      "(초급) - 필요한 프로그램 설치 시연 [5]\n",
      "(초급) - 데이터를 엑셀 파일로 만들기 [9]\n",
      "(초급) -     엑셀 파일 이쁘게! 이쁘게! [8]\n",
      "(초급) -     나대신 주기적으로 파이썬 프로그램 실행하기 [7]\n",
      "(초급) - 파이썬으로 슬랙(slack) 메신저에 글쓰기 [40]\n",
      "(초급) - 웹사이트 변경사항 주기적으로 체크해서, 메신저로 알람주기 [12]\n",
      "(초급) - 네이버 API 사용해서, 블로그에 글쓰기 [42]\n",
      "(중급) - 자동으로 쿠팡파트너스 API 로 가져온 상품 정보, 네이버 블로그/트위터에 홍보하기 [412]\n"
     ]
    }
   ],
   "source": [
    "section = soup.find('ul', id='dev_course_list')\n",
    "titles = section.find_all('li', 'course')\n",
    "for title in titles:\n",
    "    print(title.get_text())"
   ]
  },
  {
   "cell_type": "code",
   "execution_count": 66,
   "id": "acdcad17-d013-45b8-a504-cf81c705a47c",
   "metadata": {},
   "outputs": [
    {
     "name": "stdout",
     "output_type": "stream",
     "text": [
      "1. 강사가 실제 사용하는 자동 프로그램 소개\n",
      "2. 필요한 프로그램 설치 시연\n",
      "3. 데이터를 엑셀 파일로 만들기\n",
      "4. 엑셀 파일 이쁘게! 이쁘게!\n",
      "5. 나대신 주기적으로 파이썬 프로그램 실행하기\n",
      "6. 파이썬으로 슬랙(slack) 메신저에 글쓰기\n",
      "7. 웹사이트 변경사항 주기적으로 체크해서, 메신저로 알람주기\n",
      "8. 네이버 API 사용해서, 블로그에 글쓰기\n",
      "9. 자동으로 쿠팡파트너스 API 로 가져온 상품 정보, 네이버 블로그/트위터에 홍보하기\n"
     ]
    }
   ],
   "source": [
    "section = soup.find('ul', id='dev_course_list')\n",
    "titles = section.find_all('li', 'course')\n",
    "for index, title in enumerate(titles):\n",
    "    item = title.get_text().split(\"[\")[0].split(\"-\")[1].strip()    \n",
    "    print(f\"{index+1}. {item}\")"
   ]
  },
  {
   "cell_type": "markdown",
   "id": "74163a67-e300-47e9-b8f8-10b8d02bd5fe",
   "metadata": {},
   "source": [
    "### CSS Selector\n",
    ">- select() 안에 Tag 또는 CSS class 이름 등을 입력\n",
    ">- 결과값은 리스트(List) 형태로 반환"
   ]
  },
  {
   "cell_type": "code",
   "execution_count": 67,
   "id": "d83f43b9-e848-49ed-bb04-ea63f2240224",
   "metadata": {},
   "outputs": [],
   "source": [
    "import requests\n",
    "from bs4 import BeautifulSoup\n",
    "res = requests.get('https://davelee-fun.github.io/blog/crawl_test')\n",
    "soup = BeautifulSoup(res.content, 'html.parser')"
   ]
  },
  {
   "cell_type": "code",
   "execution_count": 71,
   "id": "c86c8c99-bbe1-46fe-8fd4-de2c633cd0c5",
   "metadata": {},
   "outputs": [
    {
     "name": "stdout",
     "output_type": "stream",
     "text": [
      "나만의 엣지있는 블로그 사이트 만들기\n",
      "당신의 커리어에 파이썬을 입히세요! 자신만의 자동 프로그램까지 가져가는 특별한 강의\n"
     ]
    }
   ],
   "source": [
    "items = soup.select('h3')\n",
    "\n",
    "for item in items:\n",
    "    print(item.get_text())"
   ]
  },
  {
   "cell_type": "code",
   "execution_count": 78,
   "id": "0a49afd4-21f4-4dce-8f2b-551a80085b30",
   "metadata": {},
   "outputs": [
    {
     "name": "stdout",
     "output_type": "stream",
     "text": [
      "(왕초보) - 클래스 소개\n",
      "(왕초보) - 블로그 개발 필요한 준비물 준비하기\n",
      "(왕초보) - Github pages 설정해서 블로그 첫 페이지 만들어보기\n",
      "(왕초보) - 초간단 페이지 만들어보기\n",
      "(왕초보) - 이쁘게 테마 적용해보기\n",
      "(왕초보) - 마크다운 기초 이해하고, 실제 나만의 블로그 페이지 만들기\n",
      "(왕초보) - 다양한 마크다운 기법 익혀보며, 나만의 블로그 페이지 꾸며보기\n",
      "(초급) - 강사가 실제 사용하는 자동 프로그램 소개 [2]\n",
      "(초급) - 필요한 프로그램 설치 시연 [5]\n",
      "(초급) - 데이터를 엑셀 파일로 만들기 [9]\n",
      "(초급) -     엑셀 파일 이쁘게! 이쁘게! [8]\n",
      "(초급) -     나대신 주기적으로 파이썬 프로그램 실행하기 [7]\n",
      "(초급) - 파이썬으로 슬랙(slack) 메신저에 글쓰기 [40]\n",
      "(초급) - 웹사이트 변경사항 주기적으로 체크해서, 메신저로 알람주기 [12]\n",
      "(초급) - 네이버 API 사용해서, 블로그에 글쓰기 [42]\n",
      "(중급) - 자동으로 쿠팡파트너스 API 로 가져온 상품 정보, 네이버 블로그/트위터에 홍보하기 [412]\n"
     ]
    }
   ],
   "source": [
    "items = soup.select('ul li')\n",
    "\n",
    "for item in items:\n",
    "    print(item.get_text())"
   ]
  },
  {
   "cell_type": "code",
   "execution_count": 79,
   "id": "8a53724c-9129-43c7-954d-e4d158939f62",
   "metadata": {},
   "outputs": [
    {
     "name": "stdout",
     "output_type": "stream",
     "text": [
      "(왕초보) - 클래스 소개\n",
      "(왕초보) - 블로그 개발 필요한 준비물 준비하기\n",
      "(왕초보) - Github pages 설정해서 블로그 첫 페이지 만들어보기\n",
      "(왕초보) - 초간단 페이지 만들어보기\n",
      "(왕초보) - 이쁘게 테마 적용해보기\n",
      "(왕초보) - 마크다운 기초 이해하고, 실제 나만의 블로그 페이지 만들기\n",
      "(왕초보) - 다양한 마크다운 기법 익혀보며, 나만의 블로그 페이지 꾸며보기\n",
      "(초급) - 강사가 실제 사용하는 자동 프로그램 소개 [2]\n",
      "(초급) - 필요한 프로그램 설치 시연 [5]\n",
      "(초급) - 데이터를 엑셀 파일로 만들기 [9]\n",
      "(초급) -     엑셀 파일 이쁘게! 이쁘게! [8]\n",
      "(초급) -     나대신 주기적으로 파이썬 프로그램 실행하기 [7]\n",
      "(초급) - 파이썬으로 슬랙(slack) 메신저에 글쓰기 [40]\n",
      "(초급) - 웹사이트 변경사항 주기적으로 체크해서, 메신저로 알람주기 [12]\n",
      "(초급) - 네이버 API 사용해서, 블로그에 글쓰기 [42]\n",
      "(중급) - 자동으로 쿠팡파트너스 API 로 가져온 상품 정보, 네이버 블로그/트위터에 홍보하기 [412]\n"
     ]
    }
   ],
   "source": [
    "items = soup.select('.course')\n",
    "\n",
    "for item in items:\n",
    "    print(item.get_text())"
   ]
  },
  {
   "cell_type": "code",
   "execution_count": 82,
   "id": "3372cc3c-2e8c-4805-ab70-50f7415d305f",
   "metadata": {},
   "outputs": [
    {
     "name": "stdout",
     "output_type": "stream",
     "text": [
      "\n",
      "(왕초보) - 클래스 소개\n",
      "(왕초보) - 블로그 개발 필요한 준비물 준비하기\n",
      "(왕초보) - Github pages 설정해서 블로그 첫 페이지 만들어보기\n",
      "(왕초보) - 초간단 페이지 만들어보기\n",
      "(왕초보) - 이쁘게 테마 적용해보기\n",
      "(왕초보) - 마크다운 기초 이해하고, 실제 나만의 블로그 페이지 만들기\n",
      "(왕초보) - 다양한 마크다운 기법 익혀보며, 나만의 블로그 페이지 꾸며보기\n",
      "\n"
     ]
    }
   ],
   "source": [
    "items = soup.select('#hobby_course_list')\n",
    "\n",
    "for item in items:\n",
    "    print(item.get_text())"
   ]
  },
  {
   "cell_type": "code",
   "execution_count": 83,
   "id": "2fffcdcc-c9f2-44e3-8c91-a68ecad67598",
   "metadata": {},
   "outputs": [
    {
     "name": "stdout",
     "output_type": "stream",
     "text": [
      "(왕초보) - 클래스 소개\n",
      "(왕초보) - 블로그 개발 필요한 준비물 준비하기\n",
      "(왕초보) - Github pages 설정해서 블로그 첫 페이지 만들어보기\n",
      "(왕초보) - 초간단 페이지 만들어보기\n",
      "(왕초보) - 이쁘게 테마 적용해보기\n",
      "(왕초보) - 마크다운 기초 이해하고, 실제 나만의 블로그 페이지 만들기\n",
      "(왕초보) - 다양한 마크다운 기법 익혀보며, 나만의 블로그 페이지 꾸며보기\n"
     ]
    }
   ],
   "source": [
    "items = soup.select('ul#hobby_course_list li.course')\n",
    "\n",
    "for item in items:\n",
    "    print(item.get_text())"
   ]
  },
  {
   "cell_type": "code",
   "execution_count": 86,
   "id": "1503c2f0-6ac6-413f-af6f-601ea3087ea0",
   "metadata": {},
   "outputs": [
    {
     "name": "stdout",
     "output_type": "stream",
     "text": [
      "(초급) - 강사가 실제 사용하는 자동 프로그램 소개 [2]\n",
      "(초급) - 필요한 프로그램 설치 시연 [5]\n",
      "(초급) - 데이터를 엑셀 파일로 만들기 [9]\n",
      "(초급) -     엑셀 파일 이쁘게! 이쁘게! [8]\n",
      "(초급) -     나대신 주기적으로 파이썬 프로그램 실행하기 [7]\n",
      "(초급) - 파이썬으로 슬랙(slack) 메신저에 글쓰기 [40]\n",
      "(초급) - 웹사이트 변경사항 주기적으로 체크해서, 메신저로 알람주기 [12]\n",
      "(초급) - 네이버 API 사용해서, 블로그에 글쓰기 [42]\n",
      "(중급) - 자동으로 쿠팡파트너스 API 로 가져온 상품 정보, 네이버 블로그/트위터에 홍보하기 [412]\n"
     ]
    }
   ],
   "source": [
    "items = soup.select('ul#dev_course_list > li.course')\n",
    "\n",
    "for item in items:\n",
    "    print(item.get_text())"
   ]
  },
  {
   "cell_type": "markdown",
   "id": "0a131d7c-3846-420a-8469-d2aa707b5d46",
   "metadata": {},
   "source": [
    "#### select_one()"
   ]
  },
  {
   "cell_type": "code",
   "execution_count": 90,
   "id": "c2db2e82-d761-454f-8e23-2b90a026f308",
   "metadata": {},
   "outputs": [
    {
     "name": "stdout",
     "output_type": "stream",
     "text": [
      "(중급) - 자동으로 쿠팡파트너스 API 로 가져온 상품 정보, 네이버 블로그/트위터에 홍보하기 [412]\n"
     ]
    }
   ],
   "source": [
    "item = soup.select_one('ul#dev_course_list > li:nth-child(9) > a')\n",
    "print(item.get_text())"
   ]
  },
  {
   "cell_type": "code",
   "execution_count": 93,
   "id": "05217e13-bee0-418a-8ab8-972b37d956f4",
   "metadata": {},
   "outputs": [],
   "source": [
    "import requests\n",
    "from bs4 import BeautifulSoup\n",
    "res = requests.get('https://davelee-fun.github.io/blog/crawl_html_css.html')\n",
    "soup = BeautifulSoup(res.content, 'html.parser')"
   ]
  },
  {
   "cell_type": "code",
   "execution_count": 94,
   "id": "ce0dbb38-bd4a-4146-b4a7-386cecca33e3",
   "metadata": {},
   "outputs": [
    {
     "name": "stdout",
     "output_type": "stream",
     "text": [
      "일정\n",
      "커리큘럼 타이틀\n",
      "난이도\n",
      "5.1 ~ 6.15\n",
      "나만의 엣지있는 블로그 사이트 만들기 (취미로 익히는 IT)\n",
      "초급\n",
      "6.16 ~ 7.31\n",
      "파이썬과 데이터과학 첫걸음 (IT 기본기 익히기)\n",
      "중급\n"
     ]
    }
   ],
   "source": [
    "items = soup.select('tr td')\n",
    "\n",
    "for item in items:\n",
    "    print(item.get_text())"
   ]
  },
  {
   "cell_type": "code",
   "execution_count": 102,
   "id": "2518f30a-c6ee-4445-a7ad-80ae2e311296",
   "metadata": {},
   "outputs": [
    {
     "name": "stdout",
     "output_type": "stream",
     "text": [
      "일정, 커리큘럼 타이틀, 난이도\n",
      "5.1 ~ 6.15, 나만의 엣지있는 블로그 사이트 만들기 (취미로 익히는 IT), 초급\n",
      "6.16 ~ 7.31, 파이썬과 데이터과학 첫걸음 (IT 기본기 익히기), 중급\n"
     ]
    }
   ],
   "source": [
    "items = soup.select('tr')\n",
    "\n",
    "for item in items:\n",
    "    row_str = ''\n",
    "    columns = item.select('td')\n",
    "    \n",
    "    for column in columns:\n",
    "        row_str += (column.get_text() + \", \")\n",
    "        \n",
    "    print(row_str[:-2])"
   ]
  },
  {
   "cell_type": "code",
   "execution_count": null,
   "id": "de31c9f1-70eb-4a06-aefd-7f67f385e5eb",
   "metadata": {},
   "outputs": [],
   "source": []
  },
  {
   "cell_type": "code",
   "execution_count": null,
   "id": "70f0a8f0-0edf-420d-b0b1-7d9889fcc5e7",
   "metadata": {},
   "outputs": [],
   "source": []
  },
  {
   "cell_type": "code",
   "execution_count": null,
   "id": "7b043e28-2227-453e-90d2-fd3e722c8d72",
   "metadata": {},
   "outputs": [],
   "source": []
  },
  {
   "cell_type": "code",
   "execution_count": null,
   "id": "455dc7bc-f0ab-4b4e-be8b-be06983296cf",
   "metadata": {},
   "outputs": [],
   "source": []
  }
 ],
 "metadata": {
  "kernelspec": {
   "display_name": "Python 3 (ipykernel)",
   "language": "python",
   "name": "python3"
  },
  "language_info": {
   "codemirror_mode": {
    "name": "ipython",
    "version": 3
   },
   "file_extension": ".py",
   "mimetype": "text/x-python",
   "name": "python",
   "nbconvert_exporter": "python",
   "pygments_lexer": "ipython3",
   "version": "3.9.7"
  }
 },
 "nbformat": 4,
 "nbformat_minor": 5
}
