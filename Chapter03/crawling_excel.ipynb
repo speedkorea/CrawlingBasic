{
 "cells": [
  {
   "cell_type": "markdown",
   "metadata": {},
   "source": [
    "### 크롤링해서 엑셀 파일로 만들기"
   ]
  },
  {
   "cell_type": "markdown",
   "metadata": {},
   "source": [
    "* openpyxl 라이브러리 활용\n",
    "  - xlsx 파일 읽고, 저장 모두 가능\n",
    "  - 설치: 터미널 모드에서 다음 명령 실행\n",
    "\n",
    "    ```\n",
    "    pip install openpyxl\n",
    "    ```"
   ]
  },
  {
   "cell_type": "markdown",
   "metadata": {},
   "source": [
    "- 라이브러리 임포트"
   ]
  },
  {
   "cell_type": "code",
   "execution_count": 1,
   "metadata": {},
   "outputs": [],
   "source": [
    "import openpyxl"
   ]
  },
  {
   "cell_type": "markdown",
   "metadata": {},
   "source": [
    "- Workbook() 으로 엑셀 파일 생성"
   ]
  },
  {
   "cell_type": "code",
   "execution_count": 2,
   "metadata": {},
   "outputs": [],
   "source": [
    "excel_file = openpyxl.Workbook()"
   ]
  },
  {
   "cell_type": "markdown",
   "metadata": {},
   "source": [
    "- 엑셀 파일이 생성되면 디폴트 쉬트가 생성되며, 엑셀파일변수.active 로 해당 쉬트를 선택할 수 있음\n",
    "  - 해당 쉬트 이름을 변경하려면 title 변수값을 변경해주면 됨\n",
    "    ```\n",
    "    excel_sheet = excel_file.active\n",
    "    excel_sheet.title = '리포트'\n",
    "    ```"
   ]
  },
  {
   "cell_type": "code",
   "execution_count": 3,
   "metadata": {},
   "outputs": [],
   "source": [
    "excel_sheet = excel_file.active"
   ]
  },
  {
   "cell_type": "markdown",
   "metadata": {},
   "source": [
    "- 데이터 추가하기 \n",
    "  - 가장 간단한 방법으로 엑셀파일변수.append(리스트 형태의 하나의 행 데이터) 를 사용하여, 한 줄의 데이터 묶음을 쓸 수 있음"
   ]
  },
  {
   "cell_type": "code",
   "execution_count": 4,
   "metadata": {},
   "outputs": [],
   "source": [
    "excel_sheet.append(['data1', 'data2', 'data3', 'data4'])"
   ]
  },
  {
   "cell_type": "markdown",
   "metadata": {},
   "source": [
    "- 엑셀 파일 저장 "
   ]
  },
  {
   "cell_type": "code",
   "execution_count": 5,
   "metadata": {},
   "outputs": [],
   "source": [
    "excel_file.save('temp.xlsx')"
   ]
  },
  {
   "cell_type": "markdown",
   "metadata": {},
   "source": [
    "- 엑셀 파일 닫기"
   ]
  },
  {
   "cell_type": "code",
   "execution_count": 6,
   "metadata": {},
   "outputs": [],
   "source": [
    "excel_file.close()"
   ]
  },
  {
   "cell_type": "markdown",
   "metadata": {},
   "source": [
    "### 엑셀 파일 만들기\n",
    "- 함수로 작성해보면서, 함수 작성법과 활용법 이해하기"
   ]
  },
  {
   "cell_type": "code",
   "execution_count": 30,
   "metadata": {},
   "outputs": [],
   "source": [
    "import openpyxl\n",
    "\n",
    "def write_excel_template(filename, sheetname, listdata):\n",
    "    excel_file = openpyxl.Workbook()\n",
    "    excel_sheet = excel_file.active\n",
    "    excel_sheet.column_dimensions['A'].width = 100    # A Column width = 100\n",
    "    excel_sheet.column_dimensions['B'].width = 12\n",
    "    \n",
    "    if sheetname != \"\":\n",
    "        excel_sheet.title = sheetname\n",
    "        \n",
    "    for item in listdata:\n",
    "        excel_sheet.append(item)\n",
    "        \n",
    "    excel_file.save(filename)\n",
    "    excel_file.close()"
   ]
  },
  {
   "cell_type": "markdown",
   "metadata": {},
   "source": [
    "### 크롤링해서 엑셀 파일까지 만들기\n",
    "- 리스트 안에 리스트(각 행을 나타냄)가 들어가야 함"
   ]
  },
  {
   "cell_type": "code",
   "execution_count": 31,
   "metadata": {},
   "outputs": [],
   "source": [
    "import requests\n",
    "from bs4 import BeautifulSoup\n",
    "\n",
    "url = \"https://davelee-fun.github.io/\"\n",
    "product_lists = list()\n",
    "\n",
    "for page_num in range(10):\n",
    "    if page_num == 0:\n",
    "        res = requests.get(url)\n",
    "    else:\n",
    "        res = requests.get(url + \"page\" + str(page_num+1))\n",
    "\n",
    "    soup = BeautifulSoup(res.content, 'html.parser')\n",
    "    data = soup.select('div.card')\n",
    "    \n",
    "    for item in data:\n",
    "        product = item.select_one('div.card-body > h4').get_text().split(\":\")[1].strip()\n",
    "        date = item.select_one('span.post-date').get_text().strip()\n",
    "        info = [product, date]\n",
    "        product_lists.append(info)        "
   ]
  },
  {
   "cell_type": "code",
   "execution_count": 32,
   "metadata": {},
   "outputs": [],
   "source": [
    "write_excel_template('product_info.xlsx', 'Product_Info', product_lists)"
   ]
  },
  {
   "cell_type": "markdown",
   "metadata": {},
   "source": [
    "### 엑셀 파일 읽기"
   ]
  },
  {
   "cell_type": "markdown",
   "metadata": {},
   "source": [
    "- 라이브러리 임포트"
   ]
  },
  {
   "cell_type": "code",
   "execution_count": 33,
   "metadata": {},
   "outputs": [],
   "source": [
    "import openpyxl"
   ]
  },
  {
   "cell_type": "markdown",
   "metadata": {},
   "source": [
    "- 엑셀 파일 오픈 (load_workbook() 함수)"
   ]
  },
  {
   "cell_type": "code",
   "execution_count": 34,
   "metadata": {},
   "outputs": [],
   "source": [
    "excel_file = openpyxl.load_workbook('product_info.xlsx')"
   ]
  },
  {
   "cell_type": "markdown",
   "metadata": {},
   "source": [
    "- 해당 엑셀 파일 안에 있는 쉬트 이름 확인하기"
   ]
  },
  {
   "cell_type": "code",
   "execution_count": 35,
   "metadata": {},
   "outputs": [
    {
     "data": {
      "text/plain": [
       "['Product_Info']"
      ]
     },
     "execution_count": 35,
     "metadata": {},
     "output_type": "execute_result"
    }
   ],
   "source": [
    "excel_file.sheetnames"
   ]
  },
  {
   "cell_type": "markdown",
   "metadata": {},
   "source": [
    "- 해당 엑셀 파일 안에 있는 특정 쉬트 선택하기"
   ]
  },
  {
   "cell_type": "code",
   "execution_count": 36,
   "metadata": {},
   "outputs": [],
   "source": [
    "excel_sheet = excel_file['Product_Info']"
   ]
  },
  {
   "cell_type": "markdown",
   "metadata": {},
   "source": [
    "- 쉬트 안에 있는 데이터 읽기\n",
    "  - item 에는 한 라인의 각 셀에 있는 데이터를 가져옴\n",
    "  - 각 데이터는 각 리스트 아이템의 value 변수로부터 실제 데이터를 가져올 수 있음"
   ]
  },
  {
   "cell_type": "code",
   "execution_count": 37,
   "metadata": {},
   "outputs": [
    {
     "name": "stdout",
     "output_type": "stream",
     "text": [
      "보몽드 순면스퀘어 솔리드 누빔매트커버, 다크블루 05 Jun 2020\n",
      "슈에뜨룸 선인장 리플 침구 세트, 베이지 05 Jun 2020\n",
      "선우랜드 레인보우 2단 문걸이용 옷걸이 _중형, 화이트, 상세페이지참조 05 Jun 2020\n",
      "보드래 헬로우 누빔 매트리스커버, 핑크 05 Jun 2020\n",
      "보드래 퍼펙트 누빔 매트리스커버, 차콜 05 Jun 2020\n",
      "피아블 클래식 방수 매트리스커버, 화이트 05 Jun 2020\n",
      "더자리 에코항균 마이크로 매트리스커버, 밀키차콜그레이 05 Jun 2020\n",
      "더자리 프레쉬 퓨어 매트리스 커버, 퓨어 차콜그레이 05 Jun 2020\n",
      "몽쉐어 알러스킨 항균 매트리스 커버, 카키그레이 05 Jun 2020\n",
      "쿠팡 브랜드 - 코멧 홈 40수 트윌 순면 100% 홑겹 매트리스커버, 그레이 05 Jun 2020\n",
      "패브릭아트 항균 마이크로 원단 매트리스 커버, 아이보리 05 Jun 2020\n",
      "바숨 순면 누빔 침대 매트리스커버, 차콜 05 Jun 2020\n",
      "WEMAX 다용도 문옷걸이, 화이트, 1개 05 Jun 2020\n",
      "타카타카 프리미엄 나노 화이바 누빔 매트리스 커버, 젠틀핑핑 05 Jun 2020\n",
      "보몽드 순면스퀘어 누빔매트커버, 다크그레이 05 Jun 2020\n",
      "보드래 국내산 순면 60수 누빔 매트리스커버, 그레이 05 Jun 2020\n",
      "보드래 퍼펙트 누빔 매트리스커버, 베이지핑크 05 Jun 2020\n",
      "쿠팡 브랜드 - 코멧 홈 40수 순면 누빔 매트리스커버, 챠콜 05 Jun 2020\n",
      "바숨 순면 누빔 침대 매트리스커버, 화이트 05 Jun 2020\n",
      "프랑떼 항균 방수 매트리스커버, 화이트 05 Jun 2020\n",
      "보몽드 순면스퀘어 솔리드 누빔매트커버, 다크블루 05 Jun 2020\n",
      "네이쳐리빙 피아블 클래식 방수 매트리스커버, 그레이 05 Jun 2020\n",
      "쿠팡 브랜드 - 코멧 홈 순면 매트리스커버, 베이지 05 Jun 2020\n",
      "타카타카 프리미엄 나노 화이바 누빔 매트리스 커버, 프렌치불독 05 Jun 2020\n",
      "더자리 에코항균 마이크로 매트리스커버, 밀키그레이 05 Jun 2020\n",
      "보몽드 순면스퀘어 누빔매트커버, 화이트 05 Jun 2020\n",
      "피아블 클래식 방수 매트리스커버, 화이트 05 Jun 2020\n",
      "쿠팡 브랜드 - 코멧 홈 순면 매트리스커버, 차콜그레이 05 Jun 2020\n",
      "쉬즈홈 모던그리드 순면 여름이불 베개커버 패드세트, 핑크 05 Jun 2020\n",
      "스코홈 빅리플 여름 차렵이불패드 3종 세트, 마린그레이 05 Jun 2020\n",
      "아망떼 시어서커 리플 홑이불 패드세트, 웨이크 05 Jun 2020\n",
      "마이센스 무더운 여름엔 시어서커 여름이불 패드 베개 이불세트 30종, 시어서커_파스텔그레이 05 Jun 2020\n",
      "믹스앤매치 로라 프릴 시어서커 침구세트, 그레이 05 Jun 2020\n",
      "에피소드1 샤베트 프릴 시어서커 여름이불패드세트, 그레이 05 Jun 2020\n",
      "슈에뜨룸 선인장 리플 침구 세트, 베이지 05 Jun 2020\n",
      "아망떼 시어서커 리플 홑이불 패드세트, 허브티 05 Jun 2020\n",
      "지베딩 아이스베어 시어서커 여름침구 풀세트, 민트그레이 05 Jun 2020\n",
      "쁘리엘르 테스 시어서커 여름이불 패드세트, 그레이 05 Jun 2020\n",
      "쉬즈홈 시어서커 홑이불 + 토퍼 + 베개커버 세트, 나나 옐로우 05 Jun 2020\n",
      "아망떼 시어서커 리플 퀼팅 이불패드세트, 리엔나 05 Jun 2020\n",
      "바자르 트로피컬 인견 여름 이불세트 인견이불 + 베개커버 2p + 인견패드, 그린 05 Jun 2020\n",
      "바자르 라이닝 혼방 인견 여름 이불베개세트 + 패드 Q, 쿨 네이비 05 Jun 2020\n",
      "슈에뜨룸 비숑 피치스킨 침구세트, 그레이 05 Jun 2020\n",
      "스코홈 시어서커 여름 이불 패드 3종 세트, 차콜 05 Jun 2020\n",
      "스코홈 어번시리즈 순면 차렵이불 누빔 매트커버세트 S 차콜 05 Jun 2020\n",
      "쉬즈홈 루즈 시어서커 차렵이불 패드세트, 그레이 05 Jun 2020\n",
      "예가로드 메리엘 시어서커 누비이불 패드세트, 블루 05 Jun 2020\n",
      "에피소드1 샤베트 프릴 시어서커 여름이불패드세트, 화이트 05 Jun 2020\n",
      "쉬즈홈 플루 시어서커 차렵이불 패드세트, 그린 05 Jun 2020\n",
      "메종 레이스 차렵 이불 세트, 블루 05 Jun 2020\n",
      "믹스앤매치 로라 프릴 시어서커 침구세트, 그린 05 Jun 2020\n",
      "슈에뜨룸 발그레 피치 리플 침구 세트, 혼합 색상 05 Jun 2020\n",
      "보몽드 메종 레이스 차렵이불 3종 세트, 민트 05 Jun 2020\n",
      "슈에뜨룸 체크 피치스킨 침구세트, 모카 05 Jun 2020\n",
      "메리엘 시어서커 에어리플 이불세트, 그레이 05 Jun 2020\n",
      "슈에뜨룸 빠삐용 시어서커 침구세트, 네이비 05 Jun 2020\n",
      "믹스앤매치 에이프릴 리플 누비이불 패드세트, 화이트 05 Jun 2020\n",
      "쉬즈홈 시어서커 홑이불 토퍼세트, 루즈 그레이 05 Jun 2020\n",
      "이코디 5단 엔틱 도어 행거, 브라운, 1개 05 Jun 2020\n",
      "선우랜드 우드볼 도어훅 4구, 실버, 1개 05 Jun 2020\n",
      "리은상점 다용도 도어훅 문걸이 행거 모자걸이 머플러 목도리 걸이, 화이트, 5개 05 Jun 2020\n",
      "퍼니스코 다용도걸이 모자걸이 가방걸이 도어훅 도어행거 문걸이, 엔틱브라운, 1세트 05 Jun 2020\n",
      "스텐 도어후크 옷걸이/도어훅 문옷걸이 행거 바지걸이, 혼합 색상, 1개 05 Jun 2020\n",
      "디비플러스 키펙스 컬러 폭조절 오버 도어훅, 블랙, 1개 05 Jun 2020\n",
      "리빙스토리 1+1 문에 거는 문 옷걸이 음자리 도어후크 방문 행거, 음자리도어후크-로즈골드, 2개 05 Jun 2020\n",
      "나이스후크 도어행거 2개 세트 (문행거), 블랙+화이트 05 Jun 2020\n",
      "리빙파이 도어훅 옷걸이 행거 7구, 블랙, 1개 05 Jun 2020\n",
      "선우랜드 우드볼 도어훅 10구, 실버, 1개 05 Jun 2020\n",
      "웰렉스 도어행거 MH1060 신형 본사직발송 미니건조대 도어옷걸이 도어훅, 고동색, 1개 05 Jun 2020\n",
      "엔비 엔틱 7구 도어훅 옷걸이, 도어훅 1+1, 1+1 05 Jun 2020\n",
      "코시나 무타공 문걸이 후크선반 1단, 화이트, 1개 05 Jun 2020\n",
      "코시나 무타공 올스텐 문걸이행거, 혼합 색상, 1개 05 Jun 2020\n",
      "[아트박스 POOM/이케아] ENUDDEN 도어 행거, 본품, 수량 05 Jun 2020\n",
      "비스비바 우드 폴 다용도걸이 3구, 혼합 색상, 1개 05 Jun 2020\n",
      "숲속애 웨이브 도어후크 5구, 블랙, 1개 05 Jun 2020\n",
      "펀타스틱 다용도 문틀걸이, 화이트, 1개 05 Jun 2020\n",
      "선우랜드 우드볼 도어훅 4구, 화이트, 1개 05 Jun 2020\n",
      "네이쳐리빙 어반모카 와이어 도어훅 옷걸이 6구, 단일 색상, 1개 05 Jun 2020\n",
      "까사마루 블랑 접이식 문걸이 건조대, 1개 05 Jun 2020\n",
      "선우랜드 우드볼 도어훅 6구, 실버, 1개 05 Jun 2020\n",
      "이케아 ENUDDEN 문걸이 행거 402.516.66, 화이트, 1개 05 Jun 2020\n",
      "선우랜드 우드볼 도어훅 10구, 화이트, 1개 05 Jun 2020\n",
      "코멧 홈 우드볼 도어행거, 6구, 혼합색상 05 Jun 2020\n",
      "선우랜드 레인보우 2단 문걸이용 옷걸이 _중형, 화이트, 상세페이지참조 05 Jun 2020\n",
      "코시나 무타공 문걸이 후크선반 2단, 화이트, 1개 05 Jun 2020\n",
      "스파이더락 도어후크 8구, 화이트, 1개 05 Jun 2020\n",
      "선우랜드 우드볼 도어훅 6구, 화이트, 1개 05 Jun 2020\n",
      "코멧 홈 우드볼 도어행거, 10구, 혼합색상 05 Jun 2020\n",
      "보드래 헬로우 누빔 매트리스커버, 핑크 05 Jun 2020\n",
      "보몽드 순면스퀘어 솔리드 누빔매트커버, 아이보리 05 Jun 2020\n",
      "더자리 에코항균 마이크로 매트리스커버, 밀키핑크 05 Jun 2020\n",
      "타카타카 프리미엄 나노 화이바 누빔 매트리스 커버, 미스밍고 05 Jun 2020\n",
      "네이쳐리빙 피아블 클래식 방수 매트리스커버, 그레이 05 Jun 2020\n",
      "프로텍트어베드 베이직 매트리스 방수커버, 그레이 05 Jun 2020\n"
     ]
    }
   ],
   "source": [
    "for item in excel_sheet.rows:\n",
    "    print(item[0].value, item[1].value)"
   ]
  },
  {
   "cell_type": "markdown",
   "metadata": {},
   "source": [
    "- 오픈한 엑셀 파일 닫기"
   ]
  },
  {
   "cell_type": "code",
   "execution_count": 38,
   "metadata": {},
   "outputs": [],
   "source": [
    "excel_file.close()"
   ]
  },
  {
   "cell_type": "markdown",
   "metadata": {},
   "source": [
    "### 엑셀 파일 읽기 전체 코드"
   ]
  },
  {
   "cell_type": "code",
   "execution_count": 41,
   "metadata": {},
   "outputs": [],
   "source": [
    "import openpyxl\n",
    "\n",
    "def read_excel_template(filename):\n",
    "    excel_file = openpyxl.load_workbook(filename + \".xlsx\")\n",
    "    excel_sheet = excel_file.active\n",
    "    \n",
    "    for item in excel_sheet.rows:\n",
    "        print(item[0].value, item[1].value)\n",
    "        \n",
    "    excel_file.close()"
   ]
  },
  {
   "cell_type": "code",
   "execution_count": 42,
   "metadata": {},
   "outputs": [
    {
     "name": "stdout",
     "output_type": "stream",
     "text": [
      "보몽드 순면스퀘어 솔리드 누빔매트커버, 다크블루 05 Jun 2020\n",
      "슈에뜨룸 선인장 리플 침구 세트, 베이지 05 Jun 2020\n",
      "선우랜드 레인보우 2단 문걸이용 옷걸이 _중형, 화이트, 상세페이지참조 05 Jun 2020\n",
      "보드래 헬로우 누빔 매트리스커버, 핑크 05 Jun 2020\n",
      "보드래 퍼펙트 누빔 매트리스커버, 차콜 05 Jun 2020\n",
      "피아블 클래식 방수 매트리스커버, 화이트 05 Jun 2020\n",
      "더자리 에코항균 마이크로 매트리스커버, 밀키차콜그레이 05 Jun 2020\n",
      "더자리 프레쉬 퓨어 매트리스 커버, 퓨어 차콜그레이 05 Jun 2020\n",
      "몽쉐어 알러스킨 항균 매트리스 커버, 카키그레이 05 Jun 2020\n",
      "쿠팡 브랜드 - 코멧 홈 40수 트윌 순면 100% 홑겹 매트리스커버, 그레이 05 Jun 2020\n",
      "패브릭아트 항균 마이크로 원단 매트리스 커버, 아이보리 05 Jun 2020\n",
      "바숨 순면 누빔 침대 매트리스커버, 차콜 05 Jun 2020\n",
      "WEMAX 다용도 문옷걸이, 화이트, 1개 05 Jun 2020\n",
      "타카타카 프리미엄 나노 화이바 누빔 매트리스 커버, 젠틀핑핑 05 Jun 2020\n",
      "보몽드 순면스퀘어 누빔매트커버, 다크그레이 05 Jun 2020\n",
      "보드래 국내산 순면 60수 누빔 매트리스커버, 그레이 05 Jun 2020\n",
      "보드래 퍼펙트 누빔 매트리스커버, 베이지핑크 05 Jun 2020\n",
      "쿠팡 브랜드 - 코멧 홈 40수 순면 누빔 매트리스커버, 챠콜 05 Jun 2020\n",
      "바숨 순면 누빔 침대 매트리스커버, 화이트 05 Jun 2020\n",
      "프랑떼 항균 방수 매트리스커버, 화이트 05 Jun 2020\n",
      "보몽드 순면스퀘어 솔리드 누빔매트커버, 다크블루 05 Jun 2020\n",
      "네이쳐리빙 피아블 클래식 방수 매트리스커버, 그레이 05 Jun 2020\n",
      "쿠팡 브랜드 - 코멧 홈 순면 매트리스커버, 베이지 05 Jun 2020\n",
      "타카타카 프리미엄 나노 화이바 누빔 매트리스 커버, 프렌치불독 05 Jun 2020\n",
      "더자리 에코항균 마이크로 매트리스커버, 밀키그레이 05 Jun 2020\n",
      "보몽드 순면스퀘어 누빔매트커버, 화이트 05 Jun 2020\n",
      "피아블 클래식 방수 매트리스커버, 화이트 05 Jun 2020\n",
      "쿠팡 브랜드 - 코멧 홈 순면 매트리스커버, 차콜그레이 05 Jun 2020\n",
      "쉬즈홈 모던그리드 순면 여름이불 베개커버 패드세트, 핑크 05 Jun 2020\n",
      "스코홈 빅리플 여름 차렵이불패드 3종 세트, 마린그레이 05 Jun 2020\n",
      "아망떼 시어서커 리플 홑이불 패드세트, 웨이크 05 Jun 2020\n",
      "마이센스 무더운 여름엔 시어서커 여름이불 패드 베개 이불세트 30종, 시어서커_파스텔그레이 05 Jun 2020\n",
      "믹스앤매치 로라 프릴 시어서커 침구세트, 그레이 05 Jun 2020\n",
      "에피소드1 샤베트 프릴 시어서커 여름이불패드세트, 그레이 05 Jun 2020\n",
      "슈에뜨룸 선인장 리플 침구 세트, 베이지 05 Jun 2020\n",
      "아망떼 시어서커 리플 홑이불 패드세트, 허브티 05 Jun 2020\n",
      "지베딩 아이스베어 시어서커 여름침구 풀세트, 민트그레이 05 Jun 2020\n",
      "쁘리엘르 테스 시어서커 여름이불 패드세트, 그레이 05 Jun 2020\n",
      "쉬즈홈 시어서커 홑이불 + 토퍼 + 베개커버 세트, 나나 옐로우 05 Jun 2020\n",
      "아망떼 시어서커 리플 퀼팅 이불패드세트, 리엔나 05 Jun 2020\n",
      "바자르 트로피컬 인견 여름 이불세트 인견이불 + 베개커버 2p + 인견패드, 그린 05 Jun 2020\n",
      "바자르 라이닝 혼방 인견 여름 이불베개세트 + 패드 Q, 쿨 네이비 05 Jun 2020\n",
      "슈에뜨룸 비숑 피치스킨 침구세트, 그레이 05 Jun 2020\n",
      "스코홈 시어서커 여름 이불 패드 3종 세트, 차콜 05 Jun 2020\n",
      "스코홈 어번시리즈 순면 차렵이불 누빔 매트커버세트 S 차콜 05 Jun 2020\n",
      "쉬즈홈 루즈 시어서커 차렵이불 패드세트, 그레이 05 Jun 2020\n",
      "예가로드 메리엘 시어서커 누비이불 패드세트, 블루 05 Jun 2020\n",
      "에피소드1 샤베트 프릴 시어서커 여름이불패드세트, 화이트 05 Jun 2020\n",
      "쉬즈홈 플루 시어서커 차렵이불 패드세트, 그린 05 Jun 2020\n",
      "메종 레이스 차렵 이불 세트, 블루 05 Jun 2020\n",
      "믹스앤매치 로라 프릴 시어서커 침구세트, 그린 05 Jun 2020\n",
      "슈에뜨룸 발그레 피치 리플 침구 세트, 혼합 색상 05 Jun 2020\n",
      "보몽드 메종 레이스 차렵이불 3종 세트, 민트 05 Jun 2020\n",
      "슈에뜨룸 체크 피치스킨 침구세트, 모카 05 Jun 2020\n",
      "메리엘 시어서커 에어리플 이불세트, 그레이 05 Jun 2020\n",
      "슈에뜨룸 빠삐용 시어서커 침구세트, 네이비 05 Jun 2020\n",
      "믹스앤매치 에이프릴 리플 누비이불 패드세트, 화이트 05 Jun 2020\n",
      "쉬즈홈 시어서커 홑이불 토퍼세트, 루즈 그레이 05 Jun 2020\n",
      "이코디 5단 엔틱 도어 행거, 브라운, 1개 05 Jun 2020\n",
      "선우랜드 우드볼 도어훅 4구, 실버, 1개 05 Jun 2020\n",
      "리은상점 다용도 도어훅 문걸이 행거 모자걸이 머플러 목도리 걸이, 화이트, 5개 05 Jun 2020\n",
      "퍼니스코 다용도걸이 모자걸이 가방걸이 도어훅 도어행거 문걸이, 엔틱브라운, 1세트 05 Jun 2020\n",
      "스텐 도어후크 옷걸이/도어훅 문옷걸이 행거 바지걸이, 혼합 색상, 1개 05 Jun 2020\n",
      "디비플러스 키펙스 컬러 폭조절 오버 도어훅, 블랙, 1개 05 Jun 2020\n",
      "리빙스토리 1+1 문에 거는 문 옷걸이 음자리 도어후크 방문 행거, 음자리도어후크-로즈골드, 2개 05 Jun 2020\n",
      "나이스후크 도어행거 2개 세트 (문행거), 블랙+화이트 05 Jun 2020\n",
      "리빙파이 도어훅 옷걸이 행거 7구, 블랙, 1개 05 Jun 2020\n",
      "선우랜드 우드볼 도어훅 10구, 실버, 1개 05 Jun 2020\n",
      "웰렉스 도어행거 MH1060 신형 본사직발송 미니건조대 도어옷걸이 도어훅, 고동색, 1개 05 Jun 2020\n",
      "엔비 엔틱 7구 도어훅 옷걸이, 도어훅 1+1, 1+1 05 Jun 2020\n",
      "코시나 무타공 문걸이 후크선반 1단, 화이트, 1개 05 Jun 2020\n",
      "코시나 무타공 올스텐 문걸이행거, 혼합 색상, 1개 05 Jun 2020\n",
      "[아트박스 POOM/이케아] ENUDDEN 도어 행거, 본품, 수량 05 Jun 2020\n",
      "비스비바 우드 폴 다용도걸이 3구, 혼합 색상, 1개 05 Jun 2020\n",
      "숲속애 웨이브 도어후크 5구, 블랙, 1개 05 Jun 2020\n",
      "펀타스틱 다용도 문틀걸이, 화이트, 1개 05 Jun 2020\n",
      "선우랜드 우드볼 도어훅 4구, 화이트, 1개 05 Jun 2020\n",
      "네이쳐리빙 어반모카 와이어 도어훅 옷걸이 6구, 단일 색상, 1개 05 Jun 2020\n",
      "까사마루 블랑 접이식 문걸이 건조대, 1개 05 Jun 2020\n",
      "선우랜드 우드볼 도어훅 6구, 실버, 1개 05 Jun 2020\n",
      "이케아 ENUDDEN 문걸이 행거 402.516.66, 화이트, 1개 05 Jun 2020\n",
      "선우랜드 우드볼 도어훅 10구, 화이트, 1개 05 Jun 2020\n",
      "코멧 홈 우드볼 도어행거, 6구, 혼합색상 05 Jun 2020\n",
      "선우랜드 레인보우 2단 문걸이용 옷걸이 _중형, 화이트, 상세페이지참조 05 Jun 2020\n",
      "코시나 무타공 문걸이 후크선반 2단, 화이트, 1개 05 Jun 2020\n",
      "스파이더락 도어후크 8구, 화이트, 1개 05 Jun 2020\n",
      "선우랜드 우드볼 도어훅 6구, 화이트, 1개 05 Jun 2020\n",
      "코멧 홈 우드볼 도어행거, 10구, 혼합색상 05 Jun 2020\n",
      "보드래 헬로우 누빔 매트리스커버, 핑크 05 Jun 2020\n",
      "보몽드 순면스퀘어 솔리드 누빔매트커버, 아이보리 05 Jun 2020\n",
      "더자리 에코항균 마이크로 매트리스커버, 밀키핑크 05 Jun 2020\n",
      "타카타카 프리미엄 나노 화이바 누빔 매트리스 커버, 미스밍고 05 Jun 2020\n",
      "네이쳐리빙 피아블 클래식 방수 매트리스커버, 그레이 05 Jun 2020\n",
      "프로텍트어베드 베이직 매트리스 방수커버, 그레이 05 Jun 2020\n"
     ]
    }
   ],
   "source": [
    "read_excel_template(\"product_info\")"
   ]
  },
  {
   "cell_type": "code",
   "execution_count": null,
   "metadata": {},
   "outputs": [],
   "source": []
  }
 ],
 "metadata": {
  "kernelspec": {
   "display_name": "Python 3 (ipykernel)",
   "language": "python",
   "name": "python3"
  },
  "language_info": {
   "codemirror_mode": {
    "name": "ipython",
    "version": 3
   },
   "file_extension": ".py",
   "mimetype": "text/x-python",
   "name": "python",
   "nbconvert_exporter": "python",
   "pygments_lexer": "ipython3",
   "version": "3.9.7"
  },
  "nbTranslate": {
   "displayLangs": [
    "*"
   ],
   "hotkey": "alt-t",
   "langInMainMenu": true,
   "sourceLang": "en",
   "targetLang": "fr",
   "useGoogleTranslate": true
  }
 },
 "nbformat": 4,
 "nbformat_minor": 4
}
